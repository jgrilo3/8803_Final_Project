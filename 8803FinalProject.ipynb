{
 "cells": [
  {
   "attachments": {},
   "cell_type": "markdown",
   "metadata": {},
   "source": [
    "ECE 8803 Final Project"
   ]
  },
  {
   "cell_type": "code",
   "execution_count": 5,
   "metadata": {},
   "outputs": [],
   "source": [
    "import numpy\n",
    "import pandas as pd\n",
    "import os\n",
    "\n",
    "root = os.getcwd()\n",
    "train = os.path.join(root, \"df_prime_train.csv\")\n",
    "test = os.path.join(root, \"df_prime_test.csv\")\n",
    "trainset = pd.read_csv(train)\n",
    "testset = pd.read_csv(test)"
   ]
  }
 ],
 "metadata": {
  "kernelspec": {
   "display_name": "base",
   "language": "python",
   "name": "python3"
  },
  "language_info": {
   "codemirror_mode": {
    "name": "ipython",
    "version": 3
   },
   "file_extension": ".py",
   "mimetype": "text/x-python",
   "name": "python",
   "nbconvert_exporter": "python",
   "pygments_lexer": "ipython3",
   "version": "3.9.12"
  },
  "orig_nbformat": 4,
  "vscode": {
   "interpreter": {
    "hash": "f53be5b945d9bd707dfb463269b5f5206ccedac637d039afb7a68ece5d290f2d"
   }
  }
 },
 "nbformat": 4,
 "nbformat_minor": 2
}
