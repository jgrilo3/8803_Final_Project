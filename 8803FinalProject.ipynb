{
 "cells": [
  {
   "attachments": {},
   "cell_type": "markdown",
   "metadata": {},
   "source": [
    "ECE 8803 Final Project"
   ]
  },
  {
   "cell_type": "code",
   "execution_count": 1,
   "metadata": {},
   "outputs": [
    {
     "name": "stdout",
     "output_type": "stream",
     "text": [
      "loading data\n",
      "data loaded\n"
     ]
    },
    {
     "data": {
      "text/plain": [
       "'\\n\\'\\'\\'Meta Train Data\\'\\'\\'\\nmeta_trainset = pd.read_csv(train).dropna()\\nmeta_testset = pd.read_csv(test).dropna()\\n\\ntrain = os.path.join(root, \"df_prime_train.csv\")\\ntest = os.path.join(root, \"df_prime_test.csv\")\\n\\nmeta_X_train = meta_trainset[[\\'Age\\', \\'Gender\\', \\'Race\\', \"Diabetes_Type\", \"Diabetes_Years\", \"BMI\", \"BCVA\", \"CST\", \"Leakage_Index\"]].to_numpy()\\nmeta_Y_train = meta_trainset[[\"DRSS\"]].to_numpy()\\ny = []\\nfor i in range(meta_Y_train.shape[0]):\\n    y.append(LABELS_SEVERITY[int(meta_Y_train[i])])\\n\\nmeta_Y_train = np.array(y)\\n\\n\\n\\n\\'\\'\\'Meta Test Data\\'\\'\\'\\nmeta_X_test = meta_testset[[\\'Age\\', \\'Gender\\', \\'Race\\', \"Diabetes_Type\", \"Diabetes_Years\", \"BMI\", \"BCVA\", \"CST\", \"Leakage_Index\"]].to_numpy()\\nmeta_Y_test = meta_testset[[\"DRSS\"]].to_numpy() \\ny = []\\nfor i in range(meta_Y_test.shape[0]):\\n    y.append(LABELS_SEVERITY[int(meta_Y_test[i])])\\n\\nY_test = np.array(y)\\n'"
      ]
     },
     "execution_count": 1,
     "metadata": {},
     "output_type": "execute_result"
    }
   ],
   "source": [
    "import numpy as np\n",
    "import pandas as pd\n",
    "import os\n",
    "from dataloader import OCTDataset\n",
    "import torch\n",
    "from torch.utils.data import Dataset\n",
    "from torchvision import transforms\n",
    "import numpy as np\n",
    "import pandas as pd\n",
    "from PIL import Image\n",
    "import argparse\n",
    "import os\n",
    "import copy\n",
    "import matplotlib.pyplot as plt\n",
    "\n",
    "\n",
    "\n",
    "root = os.getcwd()\n",
    "train = os.path.join(root, \"df_prime_train.csv\")\n",
    "test = os.path.join(root, \"df_prime_test.csv\")\n",
    "\n",
    "\n",
    "\n",
    "LABELS_SEVERITY = {35: 0,\n",
    "                   43: 0,\n",
    "                   47: 1,\n",
    "                   53: 1,\n",
    "                   61: 2,\n",
    "                   65: 2,\n",
    "                   71: 2,\n",
    "                   85: 2}\n",
    "\n",
    "\n",
    "def normalize_array(arr):\n",
    "    \"\"\"\n",
    "    Normalize a 1D NumPy array to have values between 0 and 1.\n",
    "    \"\"\"\n",
    "    arr_min = np.min(arr)\n",
    "    arr_max = np.max(arr)\n",
    "    normalized_arr = (arr - arr_min) / (arr_max - arr_min)\n",
    "    return normalized_arr\n",
    "\n",
    "\n",
    "\n",
    "'''Obtain Dataset Images (image, label)'''\n",
    "\n",
    "\n",
    "mean = (.1706)\n",
    "std = (.2112)\n",
    "normalize = transforms.Normalize(mean=mean, std=std)\n",
    "\n",
    "transform = transforms.Compose([\n",
    "    transforms.Resize(size=(224,224)),\n",
    "    transforms.ToTensor(),\n",
    "    #normalize,\n",
    "])\n",
    "\n",
    "transform2 = transforms.Compose([\n",
    "    transforms.Resize(size=(224,224)),\n",
    "    transforms.ToTensor(),\n",
    "    normalize,\n",
    "])\n",
    "\n",
    "args = 'C:/Users/jgril/Documents/GitHub/8803_Final_Project'\n",
    "image_trainset = OCTDataset(args, 'train', transform=transform)\n",
    "image_testset = OCTDataset(args, 'test', transform=transform)\n",
    "\n",
    "stupid_image_trainset = OCTDataset(args, 'train', transform=transform2)\n",
    "stupid_image_testset = OCTDataset(args, 'test', transform=transform2)\n",
    "\n",
    "\n",
    "print(\"loading data\")\n",
    "\n",
    "images_train = []\n",
    "labels_train = []\n",
    "\n",
    "stupid_images_train = []\n",
    "stupid_labels_train = []\n",
    "\n",
    "images_o_train = []\n",
    "labels_o_train = []\n",
    "\n",
    "for i in range(len(image_trainset)):\n",
    "    #flattened training dataset\n",
    "    image,label = image_trainset.__getitem__(i)\n",
    "    my_image = normalize_array(image.flatten().numpy())\n",
    "    images_train.append(my_image)\n",
    "    labels_train.append(label)\n",
    "\n",
    "    #flattened training dataset with stupid normalization\n",
    "    image,label = stupid_image_trainset.__getitem__(i)\n",
    "    my_image = image.flatten().numpy()\n",
    "    stupid_images_train.append(my_image)\n",
    "    stupid_labels_train.append(label)\n",
    "\n",
    "    #non-flattened training dataset\n",
    "    image_o ,label_o = image_trainset.__getitem__(i)\n",
    "    my_image_o = torch.from_numpy(normalize_array(image_o.numpy()))\n",
    "    images_o_train.append(my_image_o)\n",
    "    labels_o_train.append(label_o)\n",
    "\n",
    "images_test = []\n",
    "labels_test = []\n",
    "\n",
    "stupid_images_test = []\n",
    "stupid_labels_test = []\n",
    "\n",
    "images_o_test = []\n",
    "labels_o_test = []\n",
    "\n",
    "for i in range(len(image_testset)):\n",
    "    #flattened training dataset\n",
    "    image,label = image_trainset.__getitem__(i)\n",
    "    my_image = image.flatten().numpy()\n",
    "    images_test.append(my_image)\n",
    "    labels_test.append(label)\n",
    "\n",
    "    #flattened training dataset with stupid normalization\n",
    "    image,label = stupid_image_testset.__getitem__(i)\n",
    "    my_image = image.flatten().numpy()\n",
    "    stupid_images_test.append(my_image)\n",
    "    stupid_labels_test.append(label)\n",
    "\n",
    "    #non-flattened training dataset\n",
    "    image_o ,label_o = image_trainset.__getitem__(i)\n",
    "    my_image_o = torch.from_numpy(normalize_array(image_o.numpy()))\n",
    "    images_o_test.append(my_image_o)\n",
    "    labels_o_test.append(label_o)\n",
    "\n",
    "print(\"data loaded\")\n",
    "\n",
    "\n",
    "\n",
    "\"\"\"\n",
    "'''Meta Train Data'''\n",
    "meta_trainset = pd.read_csv(train).dropna()\n",
    "meta_testset = pd.read_csv(test).dropna()\n",
    "\n",
    "train = os.path.join(root, \"df_prime_train.csv\")\n",
    "test = os.path.join(root, \"df_prime_test.csv\")\n",
    "\n",
    "meta_X_train = meta_trainset[['Age', 'Gender', 'Race', \"Diabetes_Type\", \"Diabetes_Years\", \"BMI\", \"BCVA\", \"CST\", \"Leakage_Index\"]].to_numpy()\n",
    "meta_Y_train = meta_trainset[[\"DRSS\"]].to_numpy()\n",
    "y = []\n",
    "for i in range(meta_Y_train.shape[0]):\n",
    "    y.append(LABELS_SEVERITY[int(meta_Y_train[i])])\n",
    "\n",
    "meta_Y_train = np.array(y)\n",
    "\n",
    "\n",
    "\n",
    "'''Meta Test Data'''\n",
    "meta_X_test = meta_testset[['Age', 'Gender', 'Race', \"Diabetes_Type\", \"Diabetes_Years\", \"BMI\", \"BCVA\", \"CST\", \"Leakage_Index\"]].to_numpy()\n",
    "meta_Y_test = meta_testset[[\"DRSS\"]].to_numpy() \n",
    "y = []\n",
    "for i in range(meta_Y_test.shape[0]):\n",
    "    y.append(LABELS_SEVERITY[int(meta_Y_test[i])])\n",
    "\n",
    "Y_test = np.array(y)\n",
    "\"\"\"\n",
    "\n",
    "#print(meta_X_train)\n",
    "#print(meta_Y_train)\n",
    "#print(meta_X_test)\n",
    "#print(meta_Y_test)"
   ]
  },
  {
   "cell_type": "code",
   "execution_count": 2,
   "metadata": {},
   "outputs": [
    {
     "name": "stderr",
     "output_type": "stream",
     "text": [
      "C:\\Users\\jgril\\AppData\\Local\\Temp\\ipykernel_8460\\4239318429.py:7: FutureWarning: The input object of type 'Tensor' is an array-like implementing one of the corresponding protocols (`__array__`, `__array_interface__` or `__array_struct__`); but not a sequence (or 0-D). In the future, this object will be coerced as if it was first converted using `np.array(obj)`. To retain the old behaviour, you have to either modify the type 'Tensor', or assign to an empty array created with `np.empty(correct_shape, dtype=object)`.\n",
      "  images_o_train = np.array(images_o_train)\n",
      "C:\\Users\\jgril\\AppData\\Local\\Temp\\ipykernel_8460\\4239318429.py:7: VisibleDeprecationWarning: Creating an ndarray from ragged nested sequences (which is a list-or-tuple of lists-or-tuples-or ndarrays with different lengths or shapes) is deprecated. If you meant to do this, you must specify 'dtype=object' when creating the ndarray.\n",
      "  images_o_train = np.array(images_o_train)\n",
      "C:\\Users\\jgril\\AppData\\Local\\Temp\\ipykernel_8460\\4239318429.py:17: FutureWarning: The input object of type 'Tensor' is an array-like implementing one of the corresponding protocols (`__array__`, `__array_interface__` or `__array_struct__`); but not a sequence (or 0-D). In the future, this object will be coerced as if it was first converted using `np.array(obj)`. To retain the old behaviour, you have to either modify the type 'Tensor', or assign to an empty array created with `np.empty(correct_shape, dtype=object)`.\n",
      "  images_o_test = np.array(images_o_test)\n",
      "C:\\Users\\jgril\\AppData\\Local\\Temp\\ipykernel_8460\\4239318429.py:17: VisibleDeprecationWarning: Creating an ndarray from ragged nested sequences (which is a list-or-tuple of lists-or-tuples-or ndarrays with different lengths or shapes) is deprecated. If you meant to do this, you must specify 'dtype=object' when creating the ndarray.\n",
      "  images_o_test = np.array(images_o_test)\n"
     ]
    }
   ],
   "source": [
    "images_train = np.array(images_train)\n",
    "labels_train = np.array(labels_train)\n",
    "\n",
    "stupid_images_train = np.array(stupid_images_train)\n",
    "stupid_labels_train = np.array(stupid_labels_train)\n",
    "\n",
    "images_o_train = np.array(images_o_train)\n",
    "labels_o_train = np.array(labels_o_train)\n",
    "\n",
    "\n",
    "images_test = np.array(images_test)\n",
    "labels_test = np.array(labels_test)\n",
    "\n",
    "stupid_images_test = np.array(stupid_images_test)\n",
    "stupid_labels_test = np.array(stupid_labels_test)\n",
    "\n",
    "images_o_test = np.array(images_o_test)\n",
    "labels_o_test = np.array(labels_o_test)\n"
   ]
  },
  {
   "cell_type": "code",
   "execution_count": 3,
   "metadata": {},
   "outputs": [
    {
     "name": "stdout",
     "output_type": "stream",
     "text": [
      "Flattened trained dataset\n",
      "[0.032 0.02  0.028 ... 0.    0.    0.   ]\n",
      "(50176,)\n",
      "2\n",
      "(24252, 50176)\n",
      "(24252,)\n",
      "\n",
      "Flattened test dataset\n",
      "[0.03137255 0.01960784 0.02745098 ... 0.         0.         0.        ]\n",
      "(50176,)\n",
      "2\n",
      "(7987, 50176)\n",
      "(7987,)\n",
      "\n",
      "Stupid Flattened trained dataset\n",
      "[-0.6592209 -0.714925  -0.6777889 ... -0.8077651 -0.8077651 -0.8077651]\n",
      "(50176,)\n",
      "2\n",
      "(24252, 50176)\n",
      "(24252,)\n",
      "\n",
      "Stupid Flattened test dataset\n",
      "[-0.6777889  -0.6592209  -0.77062905 ... -0.8077651  -0.8077651\n",
      " -0.8077651 ]\n",
      "(50176,)\n",
      "0\n",
      "(7987, 50176)\n",
      "(7987,)\n",
      "\n",
      "Original trained dataset\n",
      "tensor([[[0.0320, 0.0200, 0.0280,  ..., 0.0000, 0.0000, 0.0000],\n",
      "         [0.1320, 0.0760, 0.0960,  ..., 0.0000, 0.0000, 0.0000],\n",
      "         [0.0720, 0.0400, 0.0360,  ..., 0.0000, 0.0000, 0.0000],\n",
      "         ...,\n",
      "         [0.0400, 0.0080, 0.0040,  ..., 0.0000, 0.0000, 0.0000],\n",
      "         [0.0160, 0.0040, 0.0080,  ..., 0.0000, 0.0000, 0.0000],\n",
      "         [0.0000, 0.0040, 0.0080,  ..., 0.0000, 0.0000, 0.0000]]])\n",
      "torch.Size([1, 224, 224])\n",
      "2\n",
      "(24252,)\n",
      "(24252,)\n",
      "\n",
      "Original test dataset\n",
      "tensor([[[0.0320, 0.0200, 0.0280,  ..., 0.0000, 0.0000, 0.0000],\n",
      "         [0.1320, 0.0760, 0.0960,  ..., 0.0000, 0.0000, 0.0000],\n",
      "         [0.0720, 0.0400, 0.0360,  ..., 0.0000, 0.0000, 0.0000],\n",
      "         ...,\n",
      "         [0.0400, 0.0080, 0.0040,  ..., 0.0000, 0.0000, 0.0000],\n",
      "         [0.0160, 0.0040, 0.0080,  ..., 0.0000, 0.0000, 0.0000],\n",
      "         [0.0000, 0.0040, 0.0080,  ..., 0.0000, 0.0000, 0.0000]]])\n",
      "torch.Size([1, 224, 224])\n",
      "2\n",
      "(7987,)\n",
      "(7987,)\n"
     ]
    }
   ],
   "source": [
    "# evaluate dataset\n",
    "print(\"Flattened trained dataset\")\n",
    "print(images_train[0])\n",
    "print(images_train[0].shape)\n",
    "print(labels_train[0])\n",
    "print(images_train.shape)\n",
    "print(labels_train.shape)\n",
    "print()\n",
    "\n",
    "print(\"Flattened test dataset\")\n",
    "print(images_test[0])\n",
    "print(images_test[0].shape)\n",
    "print(labels_test[0])\n",
    "print(images_test.shape)\n",
    "print(labels_test.shape)\n",
    "print()\n",
    "\n",
    "print(\"Stupid Flattened trained dataset\")\n",
    "print(stupid_images_train[0])\n",
    "print(stupid_images_train[0].shape)\n",
    "print(stupid_labels_train[0])\n",
    "print(stupid_images_train.shape)\n",
    "print(stupid_labels_train.shape)\n",
    "print()\n",
    "\n",
    "print(\"Stupid Flattened test dataset\")\n",
    "print(stupid_images_test[0])\n",
    "print(stupid_images_test[0].shape)\n",
    "print(stupid_labels_test[0])\n",
    "print(stupid_images_test.shape)\n",
    "print(stupid_labels_test.shape)\n",
    "print()\n",
    "\n",
    "print(\"Original trained dataset\")\n",
    "print(images_o_train[0])\n",
    "print(images_o_train[0].shape)\n",
    "print(labels_o_train[0])\n",
    "print(images_o_train.shape)\n",
    "print(labels_o_train.shape)\n",
    "print()\n",
    "\n",
    "print(\"Original test dataset\")\n",
    "print(images_o_test[0])\n",
    "print(images_o_test[0].shape)\n",
    "print(labels_o_test[0])\n",
    "print(images_o_test.shape)\n",
    "print(labels_o_test.shape)"
   ]
  },
  {
   "attachments": {},
   "cell_type": "markdown",
   "metadata": {},
   "source": [
    "Naive Bayes Implementation W/ Good Normalization"
   ]
  },
  {
   "cell_type": "code",
   "execution_count": 4,
   "metadata": {},
   "outputs": [
    {
     "name": "stdout",
     "output_type": "stream",
     "text": [
      "Accuracy: 0.5152122198572681\n",
      "Balanced_Accuracy: 0.5431967644308622\n"
     ]
    }
   ],
   "source": [
    "import numpy as np\n",
    "from sklearn.naive_bayes import GaussianNB\n",
    "from sklearn.metrics import accuracy_score, balanced_accuracy_score\n",
    "\n",
    "\n",
    "#print(type(images_train[0]))\n",
    "#print(images_train[0])\n",
    "X_train = images_train\n",
    "y_train = labels_train\n",
    "\n",
    "X_test = images_test\n",
    "y_test = labels_test\n",
    "\n",
    "\n",
    "# train a Naive Bayes classifier\n",
    "clf = GaussianNB()\n",
    "clf.fit(X_train, y_train)\n",
    "\n",
    "# evaluate the classifier on the test data\n",
    "y_pred = clf.predict(X_test)\n",
    "balanced_accuracy = balanced_accuracy_score(y_test,y_pred)\n",
    "accuracy = accuracy_score(y_test, y_pred)\n",
    "print('Accuracy:', accuracy)\n",
    "print(\"Balanced_Accuracy:\", balanced_accuracy)"
   ]
  },
  {
   "cell_type": "code",
   "execution_count": 13,
   "metadata": {},
   "outputs": [
    {
     "data": {
      "image/png": "[encoded data removed]",
      "text/plain": [
       "<Figure size 640x480 with 1 Axes>"
      ]
     },
     "metadata": {},
     "output_type": "display_data"
    }
   ],
   "source": [
    "import matplotlib.pyplot as plt\n",
    "from sklearn.preprocessing import LabelBinarizer\n",
    "from sklearn.naive_bayes import GaussianNB\n",
    "from sklearn.metrics import RocCurveDisplay\n",
    "\n",
    "classifier = GaussianNB()\n",
    "y_score = classifier.fit(X_train, y_train).predict_proba(X_test)\n",
    "\n",
    "label_binarizer = LabelBinarizer().fit(y_train)\n",
    "y_onehot_test = label_binarizer.transform(y_test)\n",
    "\n",
    "RocCurveDisplay.from_predictions(\n",
    "    y_onehot_test.ravel(),\n",
    "    y_score.ravel(),\n",
    "    name=\"micro-average OvR\",\n",
    "    color=\"darkorange\",\n",
    ")\n",
    "plt.plot([0, 1], [0, 1], \"k--\", label=\"chance level (AUC = 0.5)\")\n",
    "plt.axis(\"square\")\n",
    "plt.xlabel(\"False Positive Rate\")\n",
    "plt.ylabel(\"True Positive Rate\")\n",
    "plt.title(\"Micro-averaged One-vs-Rest\\nReceiver Operating Characteristic\")\n",
    "plt.legend()\n",
    "plt.show()\n"
   ]
  },
  {
   "cell_type": "code",
   "execution_count": 6,
   "metadata": {},
   "outputs": [
    {
     "name": "stdout",
     "output_type": "stream",
     "text": [
      "Recall: [0.46391239 0.45989559 0.70578231]\n",
      "Precision: [0.45821042 0.9047619  0.32668591]\n",
      "The F1 score for each class can be represented as such: \n",
      "[0.46104378 0.6098175  0.44663677]\n"
     ]
    }
   ],
   "source": [
    "from sklearn.metrics import f1_score, recall_score, precision_score\n",
    "print(\"Recall: \" + str(recall_score(y_test, y_pred, average = None)))\n",
    "print(\"Precision: \" + str(precision_score(y_test, y_pred, average = None, zero_division = 0)))\n",
    "\n",
    "print(\"The F1 score for each class can be represented as such: \")\n",
    "print(f1_score(y_test, y_pred, average=None))"
   ]
  },
  {
   "cell_type": "code",
   "execution_count": 7,
   "metadata": {},
   "outputs": [
    {
     "data": {
      "image/png": "[encoded data removed]",
      "text/plain": [
       "<Figure size 600x600 with 1 Axes>"
      ]
     },
     "metadata": {},
     "output_type": "display_data"
    }
   ],
   "source": [
    "from sklearn.metrics import confusion_matrix\n",
    "conf_matrix = confusion_matrix(y_test, y_pred)\n",
    "fig, ax = plt.subplots(figsize=(6, 6))\n",
    "ax.matshow(conf_matrix, cmap=plt.cm.Blues, alpha=0.3)\n",
    "for i in range(conf_matrix.shape[0]):\n",
    "    for j in range(conf_matrix.shape[1]):\n",
    "        ax.text(x=j, y=i,s=conf_matrix[i, j], va='center', ha='center', size='xx-large')\n",
    " \n",
    "plt.xlabel('Predictions', fontsize=14)\n",
    "plt.ylabel('Actuals', fontsize=14)\n",
    "plt.title('Confusion Matrix', fontsize=14)\n",
    "plt.show()"
   ]
  },
  {
   "attachments": {},
   "cell_type": "markdown",
   "metadata": {},
   "source": [
    "PCA Exploration"
   ]
  },
  {
   "cell_type": "code",
   "execution_count": null,
   "metadata": {},
   "outputs": [],
   "source": [
    "from sklearn.decomposition import PCA\n",
    "\n",
    "#PCA for better feature condesnsing\n",
    "pca_test = PCA(n_components=1000) #\n",
    "pca_test.fit(images_train)\n",
    "plt.plot(np.cumsum(pca_test.explained_variance_ratio_))\n",
    "plt.xlabel(\"Number of components\")\n",
    "plt.ylabel(\"Cum variance\")\n",
    "plt.show()"
   ]
  },
  {
   "attachments": {},
   "cell_type": "markdown",
   "metadata": {},
   "source": [
    "Naive Bayes W/ Bad Normalization"
   ]
  },
  {
   "cell_type": "code",
   "execution_count": 14,
   "metadata": {},
   "outputs": [
    {
     "name": "stdout",
     "output_type": "stream",
     "text": [
      "Accuracy: 0.4925503943908852\n",
      "Balanced Accuracy: 0.4684125014770176\n"
     ]
    }
   ],
   "source": [
    "import numpy as np\n",
    "from sklearn.naive_bayes import GaussianNB\n",
    "from sklearn.metrics import accuracy_score\n",
    "\n",
    "\n",
    "#print(type(images_train[0]))\n",
    "#print(images_train[0])\n",
    "X_train = stupid_images_train\n",
    "y_train = stupid_labels_train\n",
    "\n",
    "X_test = stupid_images_test\n",
    "y_test = stupid_labels_test\n",
    "\n",
    "\n",
    "# train a Naive Bayes classifier\n",
    "clf = GaussianNB()\n",
    "clf.fit(X_train, y_train)\n",
    "\n",
    "# evaluate the classifier on the test data\n",
    "y_pred = clf.predict(X_test)\n",
    "accuracy = accuracy_score(y_test, y_pred)\n",
    "balanced_accuracy = balanced_accuracy_score(y_test,y_pred)\n",
    "print('Accuracy:', accuracy)\n",
    "print(\"Balanced Accuracy:\", balanced_accuracy)"
   ]
  },
  {
   "cell_type": "code",
   "execution_count": 15,
   "metadata": {},
   "outputs": [
    {
     "data": {
      "image/png": "[encoded data removed]",
      "text/plain": [
       "<Figure size 640x480 with 1 Axes>"
      ]
     },
     "metadata": {},
     "output_type": "display_data"
    }
   ],
   "source": [
    "import matplotlib.pyplot as plt\n",
    "from sklearn.preprocessing import LabelBinarizer\n",
    "from sklearn.naive_bayes import GaussianNB\n",
    "from sklearn.metrics import RocCurveDisplay\n",
    "\n",
    "classifier = GaussianNB()\n",
    "y_score = classifier.fit(X_train, y_train).predict_proba(X_test)\n",
    "\n",
    "label_binarizer = LabelBinarizer().fit(y_train)\n",
    "y_onehot_test = label_binarizer.transform(y_test)\n",
    "\n",
    "RocCurveDisplay.from_predictions(\n",
    "    y_onehot_test.ravel(),\n",
    "    y_score.ravel(),\n",
    "    name=\"micro-average OvR\",\n",
    "    color=\"darkorange\",\n",
    ")\n",
    "plt.plot([0, 1], [0, 1], \"k--\", label=\"chance level (AUC = 0.5)\")\n",
    "plt.axis(\"square\")\n",
    "plt.xlabel(\"False Positive Rate\")\n",
    "plt.ylabel(\"True Positive Rate\")\n",
    "plt.title(\"Micro-averaged One-vs-Rest\\nReceiver Operating Characteristic\")\n",
    "plt.legend()\n",
    "plt.show()\n"
   ]
  },
  {
   "cell_type": "code",
   "execution_count": 17,
   "metadata": {},
   "outputs": [
    {
     "name": "stdout",
     "output_type": "stream",
     "text": [
      "Recall: [0.29277865 0.62397959 0.48847926]\n",
      "Precision: [0.32210708 0.58044613 0.50926561]\n",
      "The F1 score for each class can be represented as such: \n",
      "[0.30674342 0.60142611 0.49865591]\n"
     ]
    }
   ],
   "source": [
    "from sklearn.metrics import f1_score, recall_score, precision_score\n",
    "print(\"Recall: \" + str(recall_score(y_test, y_pred, average = None)))\n",
    "print(\"Precision: \" + str(precision_score(y_test, y_pred, average = None, zero_division = 0)))\n",
    "\n",
    "print(\"The F1 score for each class can be represented as such: \")\n",
    "print(f1_score(y_test, y_pred, average=None))"
   ]
  },
  {
   "cell_type": "code",
   "execution_count": 18,
   "metadata": {},
   "outputs": [
    {
     "data": {
      "image/png": "[encoded data removed]",
      "text/plain": [
       "<Figure size 600x600 with 1 Axes>"
      ]
     },
     "metadata": {},
     "output_type": "display_data"
    }
   ],
   "source": [
    "from sklearn.metrics import confusion_matrix\n",
    "conf_matrix = confusion_matrix(y_test, y_pred)\n",
    "fig, ax = plt.subplots(figsize=(6, 6))\n",
    "ax.matshow(conf_matrix, cmap=plt.cm.Blues, alpha=0.3)\n",
    "for i in range(conf_matrix.shape[0]):\n",
    "    for j in range(conf_matrix.shape[1]):\n",
    "        ax.text(x=j, y=i,s=conf_matrix[i, j], va='center', ha='center', size='xx-large')\n",
    " \n",
    "plt.xlabel('Predictions', fontsize=14)\n",
    "plt.ylabel('Actuals', fontsize=14)\n",
    "plt.title('Confusion Matrix', fontsize=14)\n",
    "plt.show()"
   ]
  },
  {
   "cell_type": "markdown",
   "metadata": {},
   "source": []
  },
  {
   "cell_type": "markdown",
   "metadata": {},
   "source": []
  },
  {
   "attachments": {},
   "cell_type": "markdown",
   "metadata": {},
   "source": [
    "KNN w/ My Norm"
   ]
  },
  {
   "cell_type": "code",
   "execution_count": 19,
   "metadata": {},
   "outputs": [
    {
     "ename": "KeyboardInterrupt",
     "evalue": "",
     "output_type": "error",
     "traceback": [
      "\u001b[1;31m---------------------------------------------------------------------------\u001b[0m",
      "\u001b[1;31mKeyboardInterrupt\u001b[0m                         Traceback (most recent call last)",
      "\u001b[1;32mc:\\Users\\jgril\\Documents\\GitHub\\8803_Final_Project\\8803FinalProject.ipynb Cell 18\u001b[0m in \u001b[0;36m4\n\u001b[0;32m     <a href='vscode-notebook-cell:/c%3A/Users/jgril/Documents/GitHub/8803_Final_Project/8803FinalProject.ipynb#X25sZmlsZQ%3D%3D?line=38'>39</a>\u001b[0m knn\u001b[39m.\u001b[39mfit(X_train, y_train)\n\u001b[0;32m     <a href='vscode-notebook-cell:/c%3A/Users/jgril/Documents/GitHub/8803_Final_Project/8803FinalProject.ipynb#X25sZmlsZQ%3D%3D?line=40'>41</a>\u001b[0m \u001b[39m# Predict labels for testing set\u001b[39;00m\n\u001b[1;32m---> <a href='vscode-notebook-cell:/c%3A/Users/jgril/Documents/GitHub/8803_Final_Project/8803FinalProject.ipynb#X25sZmlsZQ%3D%3D?line=41'>42</a>\u001b[0m y_pred \u001b[39m=\u001b[39m knn\u001b[39m.\u001b[39;49mpredict(X_test)\n\u001b[0;32m     <a href='vscode-notebook-cell:/c%3A/Users/jgril/Documents/GitHub/8803_Final_Project/8803FinalProject.ipynb#X25sZmlsZQ%3D%3D?line=43'>44</a>\u001b[0m \u001b[39m# Calculate accuracy score\u001b[39;00m\n\u001b[0;32m     <a href='vscode-notebook-cell:/c%3A/Users/jgril/Documents/GitHub/8803_Final_Project/8803FinalProject.ipynb#X25sZmlsZQ%3D%3D?line=44'>45</a>\u001b[0m accuracy \u001b[39m=\u001b[39m accuracy_score(y_test, y_pred)\n",
      "File \u001b[1;32mc:\\Users\\jgril\\miniconda3\\lib\\site-packages\\sklearn\\neighbors\\_classification.py:234\u001b[0m, in \u001b[0;36mKNeighborsClassifier.predict\u001b[1;34m(self, X)\u001b[0m\n\u001b[0;32m    218\u001b[0m \u001b[39m\"\"\"Predict the class labels for the provided data.\u001b[39;00m\n\u001b[0;32m    219\u001b[0m \n\u001b[0;32m    220\u001b[0m \u001b[39mParameters\u001b[39;00m\n\u001b[1;32m   (...)\u001b[0m\n\u001b[0;32m    229\u001b[0m \u001b[39m    Class labels for each data sample.\u001b[39;00m\n\u001b[0;32m    230\u001b[0m \u001b[39m\"\"\"\u001b[39;00m\n\u001b[0;32m    231\u001b[0m \u001b[39mif\u001b[39;00m \u001b[39mself\u001b[39m\u001b[39m.\u001b[39mweights \u001b[39m==\u001b[39m \u001b[39m\"\u001b[39m\u001b[39muniform\u001b[39m\u001b[39m\"\u001b[39m:\n\u001b[0;32m    232\u001b[0m     \u001b[39m# In that case, we do not need the distances to perform\u001b[39;00m\n\u001b[0;32m    233\u001b[0m     \u001b[39m# the weighting so we do not compute them.\u001b[39;00m\n\u001b[1;32m--> 234\u001b[0m     neigh_ind \u001b[39m=\u001b[39m \u001b[39mself\u001b[39;49m\u001b[39m.\u001b[39;49mkneighbors(X, return_distance\u001b[39m=\u001b[39;49m\u001b[39mFalse\u001b[39;49;00m)\n\u001b[0;32m    235\u001b[0m     neigh_dist \u001b[39m=\u001b[39m \u001b[39mNone\u001b[39;00m\n\u001b[0;32m    236\u001b[0m \u001b[39melse\u001b[39;00m:\n",
      "File \u001b[1;32mc:\\Users\\jgril\\miniconda3\\lib\\site-packages\\sklearn\\neighbors\\_base.py:824\u001b[0m, in \u001b[0;36mKNeighborsMixin.kneighbors\u001b[1;34m(self, X, n_neighbors, return_distance)\u001b[0m\n\u001b[0;32m    817\u001b[0m use_pairwise_distances_reductions \u001b[39m=\u001b[39m (\n\u001b[0;32m    818\u001b[0m     \u001b[39mself\u001b[39m\u001b[39m.\u001b[39m_fit_method \u001b[39m==\u001b[39m \u001b[39m\"\u001b[39m\u001b[39mbrute\u001b[39m\u001b[39m\"\u001b[39m\n\u001b[0;32m    819\u001b[0m     \u001b[39mand\u001b[39;00m ArgKmin\u001b[39m.\u001b[39mis_usable_for(\n\u001b[0;32m    820\u001b[0m         X \u001b[39mif\u001b[39;00m X \u001b[39mis\u001b[39;00m \u001b[39mnot\u001b[39;00m \u001b[39mNone\u001b[39;00m \u001b[39melse\u001b[39;00m \u001b[39mself\u001b[39m\u001b[39m.\u001b[39m_fit_X, \u001b[39mself\u001b[39m\u001b[39m.\u001b[39m_fit_X, \u001b[39mself\u001b[39m\u001b[39m.\u001b[39meffective_metric_\n\u001b[0;32m    821\u001b[0m     )\n\u001b[0;32m    822\u001b[0m )\n\u001b[0;32m    823\u001b[0m \u001b[39mif\u001b[39;00m use_pairwise_distances_reductions:\n\u001b[1;32m--> 824\u001b[0m     results \u001b[39m=\u001b[39m ArgKmin\u001b[39m.\u001b[39;49mcompute(\n\u001b[0;32m    825\u001b[0m         X\u001b[39m=\u001b[39;49mX,\n\u001b[0;32m    826\u001b[0m         Y\u001b[39m=\u001b[39;49m\u001b[39mself\u001b[39;49m\u001b[39m.\u001b[39;49m_fit_X,\n\u001b[0;32m    827\u001b[0m         k\u001b[39m=\u001b[39;49mn_neighbors,\n\u001b[0;32m    828\u001b[0m         metric\u001b[39m=\u001b[39;49m\u001b[39mself\u001b[39;49m\u001b[39m.\u001b[39;49meffective_metric_,\n\u001b[0;32m    829\u001b[0m         metric_kwargs\u001b[39m=\u001b[39;49m\u001b[39mself\u001b[39;49m\u001b[39m.\u001b[39;49meffective_metric_params_,\n\u001b[0;32m    830\u001b[0m         strategy\u001b[39m=\u001b[39;49m\u001b[39m\"\u001b[39;49m\u001b[39mauto\u001b[39;49m\u001b[39m\"\u001b[39;49m,\n\u001b[0;32m    831\u001b[0m         return_distance\u001b[39m=\u001b[39;49mreturn_distance,\n\u001b[0;32m    832\u001b[0m     )\n\u001b[0;32m    834\u001b[0m \u001b[39melif\u001b[39;00m (\n\u001b[0;32m    835\u001b[0m     \u001b[39mself\u001b[39m\u001b[39m.\u001b[39m_fit_method \u001b[39m==\u001b[39m \u001b[39m\"\u001b[39m\u001b[39mbrute\u001b[39m\u001b[39m\"\u001b[39m \u001b[39mand\u001b[39;00m \u001b[39mself\u001b[39m\u001b[39m.\u001b[39mmetric \u001b[39m==\u001b[39m \u001b[39m\"\u001b[39m\u001b[39mprecomputed\u001b[39m\u001b[39m\"\u001b[39m \u001b[39mand\u001b[39;00m issparse(X)\n\u001b[0;32m    836\u001b[0m ):\n\u001b[0;32m    837\u001b[0m     results \u001b[39m=\u001b[39m _kneighbors_from_graph(\n\u001b[0;32m    838\u001b[0m         X, n_neighbors\u001b[39m=\u001b[39mn_neighbors, return_distance\u001b[39m=\u001b[39mreturn_distance\n\u001b[0;32m    839\u001b[0m     )\n",
      "File \u001b[1;32mc:\\Users\\jgril\\miniconda3\\lib\\site-packages\\sklearn\\metrics\\_pairwise_distances_reduction\\_dispatcher.py:289\u001b[0m, in \u001b[0;36mArgKmin.compute\u001b[1;34m(cls, X, Y, k, metric, chunk_size, metric_kwargs, strategy, return_distance)\u001b[0m\n\u001b[0;32m    277\u001b[0m     \u001b[39mreturn\u001b[39;00m ArgKmin64\u001b[39m.\u001b[39mcompute(\n\u001b[0;32m    278\u001b[0m         X\u001b[39m=\u001b[39mX,\n\u001b[0;32m    279\u001b[0m         Y\u001b[39m=\u001b[39mY,\n\u001b[1;32m   (...)\u001b[0m\n\u001b[0;32m    285\u001b[0m         return_distance\u001b[39m=\u001b[39mreturn_distance,\n\u001b[0;32m    286\u001b[0m     )\n\u001b[0;32m    288\u001b[0m \u001b[39mif\u001b[39;00m X\u001b[39m.\u001b[39mdtype \u001b[39m==\u001b[39m Y\u001b[39m.\u001b[39mdtype \u001b[39m==\u001b[39m np\u001b[39m.\u001b[39mfloat32:\n\u001b[1;32m--> 289\u001b[0m     \u001b[39mreturn\u001b[39;00m ArgKmin32\u001b[39m.\u001b[39;49mcompute(\n\u001b[0;32m    290\u001b[0m         X\u001b[39m=\u001b[39;49mX,\n\u001b[0;32m    291\u001b[0m         Y\u001b[39m=\u001b[39;49mY,\n\u001b[0;32m    292\u001b[0m         k\u001b[39m=\u001b[39;49mk,\n\u001b[0;32m    293\u001b[0m         metric\u001b[39m=\u001b[39;49mmetric,\n\u001b[0;32m    294\u001b[0m         chunk_size\u001b[39m=\u001b[39;49mchunk_size,\n\u001b[0;32m    295\u001b[0m         metric_kwargs\u001b[39m=\u001b[39;49mmetric_kwargs,\n\u001b[0;32m    296\u001b[0m         strategy\u001b[39m=\u001b[39;49mstrategy,\n\u001b[0;32m    297\u001b[0m         return_distance\u001b[39m=\u001b[39;49mreturn_distance,\n\u001b[0;32m    298\u001b[0m     )\n\u001b[0;32m    300\u001b[0m \u001b[39mraise\u001b[39;00m \u001b[39mValueError\u001b[39;00m(\n\u001b[0;32m    301\u001b[0m     \u001b[39m\"\u001b[39m\u001b[39mOnly float64 or float32 datasets pairs are supported at this time, \u001b[39m\u001b[39m\"\u001b[39m\n\u001b[0;32m    302\u001b[0m     \u001b[39mf\u001b[39m\u001b[39m\"\u001b[39m\u001b[39mgot: X.dtype=\u001b[39m\u001b[39m{\u001b[39;00mX\u001b[39m.\u001b[39mdtype\u001b[39m}\u001b[39;00m\u001b[39m and Y.dtype=\u001b[39m\u001b[39m{\u001b[39;00mY\u001b[39m.\u001b[39mdtype\u001b[39m}\u001b[39;00m\u001b[39m.\u001b[39m\u001b[39m\"\u001b[39m\n\u001b[0;32m    303\u001b[0m )\n",
      "File \u001b[1;32msklearn\\metrics\\_pairwise_distances_reduction\\_argkmin.pyx:584\u001b[0m, in \u001b[0;36msklearn.metrics._pairwise_distances_reduction._argkmin.ArgKmin32.compute\u001b[1;34m()\u001b[0m\n",
      "File \u001b[1;32mc:\\Users\\jgril\\miniconda3\\lib\\site-packages\\threadpoolctl.py:171\u001b[0m, in \u001b[0;36m_ThreadpoolLimiter.__exit__\u001b[1;34m(self, type, value, traceback)\u001b[0m\n\u001b[0;32m    168\u001b[0m \u001b[39mdef\u001b[39;00m \u001b[39m__enter__\u001b[39m(\u001b[39mself\u001b[39m):\n\u001b[0;32m    169\u001b[0m     \u001b[39mreturn\u001b[39;00m \u001b[39mself\u001b[39m\n\u001b[1;32m--> 171\u001b[0m \u001b[39mdef\u001b[39;00m \u001b[39m__exit__\u001b[39m(\u001b[39mself\u001b[39m, \u001b[39mtype\u001b[39m, value, traceback):\n\u001b[0;32m    172\u001b[0m     \u001b[39mself\u001b[39m\u001b[39m.\u001b[39mrestore_original_limits()\n\u001b[0;32m    174\u001b[0m \u001b[39m@classmethod\u001b[39m\n\u001b[0;32m    175\u001b[0m \u001b[39mdef\u001b[39;00m \u001b[39mwrap\u001b[39m(\u001b[39mcls\u001b[39m, controller, \u001b[39m*\u001b[39m, limits\u001b[39m=\u001b[39m\u001b[39mNone\u001b[39;00m, user_api\u001b[39m=\u001b[39m\u001b[39mNone\u001b[39;00m):\n",
      "\u001b[1;31mKeyboardInterrupt\u001b[0m: "
     ]
    }
   ],
   "source": [
    "import numpy as np\n",
    "import cv2\n",
    "import os\n",
    "from sklearn.neighbors import KNeighborsClassifier\n",
    "from sklearn.metrics import accuracy_score\n",
    " \n",
    "# Set number of neighbors\n",
    "k = 5\n",
    "\n",
    "# Read dataset\n",
    "X_train = images_train\n",
    "y_train = labels_train\n",
    "X_test = images_test\n",
    "y_test = labels_test\n",
    "\n",
    "# Fit kNN model\n",
    "knn = KNeighborsClassifier(n_neighbors=k)\n",
    "knn.fit(X_train, y_train)\n",
    "\n",
    "# Predict labels for testing set\n",
    "y_pred = knn.predict(X_test)\n",
    "\n",
    "# Calculate accuracy score\n",
    "accuracy = accuracy_score(y_test, y_pred)\n",
    "balanced_accuracy = balanced_accuracy_score(y_test, y_pred)\n",
    "print('Accuracy:', accuracy)\n",
    "print(\"Balanced_Accuracy:\", balanced_accuracy)"
   ]
  },
  {
   "cell_type": "code",
   "execution_count": 12,
   "metadata": {},
   "outputs": [
    {
     "ename": "NameError",
     "evalue": "name 'KNeighborsClassifier' is not defined",
     "output_type": "error",
     "traceback": [
      "\u001b[1;31m---------------------------------------------------------------------------\u001b[0m",
      "\u001b[1;31mNameError\u001b[0m                                 Traceback (most recent call last)",
      "\u001b[1;32mc:\\Users\\jgril\\Documents\\GitHub\\8803_Final_Project\\8803FinalProject.ipynb Cell 21\u001b[0m in \u001b[0;36m1\n\u001b[1;32m----> <a href='vscode-notebook-cell:/c%3A/Users/jgril/Documents/GitHub/8803_Final_Project/8803FinalProject.ipynb#X26sZmlsZQ%3D%3D?line=0'>1</a>\u001b[0m classifier \u001b[39m=\u001b[39m KNeighborsClassifier()\n\u001b[0;32m      <a href='vscode-notebook-cell:/c%3A/Users/jgril/Documents/GitHub/8803_Final_Project/8803FinalProject.ipynb#X26sZmlsZQ%3D%3D?line=1'>2</a>\u001b[0m y_score \u001b[39m=\u001b[39m classifier\u001b[39m.\u001b[39mfit(X_train, y_train)\u001b[39m.\u001b[39mpredict_proba(X_test)\n\u001b[0;32m      <a href='vscode-notebook-cell:/c%3A/Users/jgril/Documents/GitHub/8803_Final_Project/8803FinalProject.ipynb#X26sZmlsZQ%3D%3D?line=3'>4</a>\u001b[0m label_binarizer \u001b[39m=\u001b[39m LabelBinarizer()\u001b[39m.\u001b[39mfit(y_train)\n",
      "\u001b[1;31mNameError\u001b[0m: name 'KNeighborsClassifier' is not defined"
     ]
    }
   ],
   "source": [
    "classifier = KNeighborsClassifier()\n",
    "y_score = classifier.fit(X_train, y_train).predict_proba(X_test)\n",
    "\n",
    "label_binarizer = LabelBinarizer().fit(y_train)\n",
    "y_onehot_test = label_binarizer.transform(y_test)\n",
    "\n",
    "RocCurveDisplay.from_predictions(\n",
    "    y_onehot_test.ravel(),\n",
    "    y_score.ravel(),\n",
    "    name=\"micro-average OvR\",\n",
    "    color=\"darkorange\",\n",
    ")\n",
    "plt.plot([0, 1], [0, 1], \"k--\", label=\"chance level (AUC = 0.5)\")\n",
    "plt.axis(\"square\")\n",
    "plt.xlabel(\"False Positive Rate\")\n",
    "plt.ylabel(\"True Positive Rate\")\n",
    "plt.title(\"Micro-averaged One-vs-Rest\\nReceiver Operating Characteristic\")\n",
    "plt.legend()\n",
    "plt.show()\n"
   ]
  },
  {
   "cell_type": "code",
   "execution_count": 64,
   "metadata": {},
   "outputs": [
    {
     "name": "stdout",
     "output_type": "stream",
     "text": [
      "Recall: [0.90791439 0.92429995 0.80272109]\n",
      "Precision: [0.8146494  0.90518243 0.9799308 ]\n",
      "The F1 score for each class can be represented as such: \n",
      "[0.85875706 0.91464131 0.88251792]\n"
     ]
    }
   ],
   "source": [
    "from sklearn.metrics import f1_score, recall_score, precision_score\n",
    "print(\"Recall: \" + str(recall_score(y_test, y_pred, average = None)))\n",
    "print(\"Precision: \" + str(precision_score(y_test, y_pred, average = None, zero_division = 0)))\n",
    "\n",
    "print(\"The F1 score for each class can be represented as such: \")\n",
    "print(f1_score(y_test, y_pred, average=None))"
   ]
  },
  {
   "cell_type": "code",
   "execution_count": 65,
   "metadata": {},
   "outputs": [
    {
     "data": {
      "image/png": "[encoded data removed]",
      "text/plain": [
       "<Figure size 600x600 with 1 Axes>"
      ]
     },
     "metadata": {},
     "output_type": "display_data"
    }
   ],
   "source": [
    "from sklearn.metrics import confusion_matrix\n",
    "conf_matrix = confusion_matrix(y_test, y_pred)\n",
    "fig, ax = plt.subplots(figsize=(6, 6))\n",
    "ax.matshow(conf_matrix, cmap=plt.cm.Blues, alpha=0.3)\n",
    "for i in range(conf_matrix.shape[0]):\n",
    "    for j in range(conf_matrix.shape[1]):\n",
    "        ax.text(x=j, y=i,s=conf_matrix[i, j], va='center', ha='center', size='xx-large')\n",
    " \n",
    "plt.xlabel('Predictions', fontsize=14)\n",
    "plt.ylabel('Actuals', fontsize=14)\n",
    "plt.title('Confusion Matrix', fontsize=14)\n",
    "plt.show()"
   ]
  },
  {
   "attachments": {},
   "cell_type": "markdown",
   "metadata": {},
   "source": [
    "KNN w/ Bad Norm w/ PCA\n"
   ]
  },
  {
   "cell_type": "code",
   "execution_count": 29,
   "metadata": {},
   "outputs": [
    {
     "name": "stdout",
     "output_type": "stream",
     "text": [
      "Accuracy: 0.3912607987980468\n",
      "Balanced_Accuracy: 0.33545095457537855\n"
     ]
    }
   ],
   "source": [
    "import numpy as np\n",
    "import cv2\n",
    "import os\n",
    "from sklearn.neighbors import KNeighborsClassifier\n",
    "from sklearn.metrics import accuracy_score\n",
    "\n",
    "# Set number of neighbors\n",
    "k = 5\n",
    "\n",
    "# Read dataset\n",
    "X_train = stupid_images_train\n",
    "y_train = stupid_labels_train\n",
    "X_test = stupid_images_test\n",
    "y_test = stupid_labels_test\n",
    "\n",
    "# Fit kNN model\n",
    "knn = KNeighborsClassifier(n_neighbors=k)\n",
    "knn.fit(X_train, y_train)\n",
    "\n",
    "# Predict labels for testing set\n",
    "y_pred = knn.predict(X_test)\n",
    "\n",
    "# Calculate accuracy score\n",
    "accuracy = accuracy_score(y_test, y_pred)\n",
    "balanced_accuracy = balanced_accuracy_score(y_test, y_pred)\n",
    "print('Accuracy:', accuracy)\n",
    "print(\"Balanced_Accuracy:\", balanced_accuracy)"
   ]
  },
  {
   "cell_type": "code",
   "execution_count": 28,
   "metadata": {},
   "outputs": [
    {
     "ename": "ValueError",
     "evalue": "X has 50176 features, but KNeighborsClassifier is expecting 100 features as input.",
     "output_type": "error",
     "traceback": [
      "\u001b[1;31m---------------------------------------------------------------------------\u001b[0m",
      "\u001b[1;31mValueError\u001b[0m                                Traceback (most recent call last)",
      "\u001b[1;32mc:\\Users\\jgril\\Documents\\GitHub\\8803_Final_Project\\8803FinalProject.ipynb Cell 26\u001b[0m in \u001b[0;36m1\n\u001b[1;32m----> <a href='vscode-notebook-cell:/c%3A/Users/jgril/Documents/GitHub/8803_Final_Project/8803FinalProject.ipynb#Y113sZmlsZQ%3D%3D?line=0'>1</a>\u001b[0m y_score \u001b[39m=\u001b[39m knn\u001b[39m.\u001b[39;49mpredict_proba(X_test)\n\u001b[0;32m      <a href='vscode-notebook-cell:/c%3A/Users/jgril/Documents/GitHub/8803_Final_Project/8803FinalProject.ipynb#Y113sZmlsZQ%3D%3D?line=2'>3</a>\u001b[0m label_binarizer \u001b[39m=\u001b[39m LabelBinarizer()\u001b[39m.\u001b[39mfit(y_train)\n\u001b[0;32m      <a href='vscode-notebook-cell:/c%3A/Users/jgril/Documents/GitHub/8803_Final_Project/8803FinalProject.ipynb#Y113sZmlsZQ%3D%3D?line=3'>4</a>\u001b[0m y_onehot_test \u001b[39m=\u001b[39m label_binarizer\u001b[39m.\u001b[39mtransform(y_test)\n",
      "File \u001b[1;32mc:\\Users\\jgril\\miniconda3\\lib\\site-packages\\sklearn\\neighbors\\_classification.py:283\u001b[0m, in \u001b[0;36mKNeighborsClassifier.predict_proba\u001b[1;34m(self, X)\u001b[0m\n\u001b[0;32m    265\u001b[0m \u001b[39m\"\"\"Return probability estimates for the test data X.\u001b[39;00m\n\u001b[0;32m    266\u001b[0m \n\u001b[0;32m    267\u001b[0m \u001b[39mParameters\u001b[39;00m\n\u001b[1;32m   (...)\u001b[0m\n\u001b[0;32m    278\u001b[0m \u001b[39m    by lexicographic order.\u001b[39;00m\n\u001b[0;32m    279\u001b[0m \u001b[39m\"\"\"\u001b[39;00m\n\u001b[0;32m    280\u001b[0m \u001b[39mif\u001b[39;00m \u001b[39mself\u001b[39m\u001b[39m.\u001b[39mweights \u001b[39m==\u001b[39m \u001b[39m\"\u001b[39m\u001b[39muniform\u001b[39m\u001b[39m\"\u001b[39m:\n\u001b[0;32m    281\u001b[0m     \u001b[39m# In that case, we do not need the distances to perform\u001b[39;00m\n\u001b[0;32m    282\u001b[0m     \u001b[39m# the weighting so we do not compute them.\u001b[39;00m\n\u001b[1;32m--> 283\u001b[0m     neigh_ind \u001b[39m=\u001b[39m \u001b[39mself\u001b[39;49m\u001b[39m.\u001b[39;49mkneighbors(X, return_distance\u001b[39m=\u001b[39;49m\u001b[39mFalse\u001b[39;49;00m)\n\u001b[0;32m    284\u001b[0m     neigh_dist \u001b[39m=\u001b[39m \u001b[39mNone\u001b[39;00m\n\u001b[0;32m    285\u001b[0m \u001b[39melse\u001b[39;00m:\n",
      "File \u001b[1;32mc:\\Users\\jgril\\miniconda3\\lib\\site-packages\\sklearn\\neighbors\\_base.py:806\u001b[0m, in \u001b[0;36mKNeighborsMixin.kneighbors\u001b[1;34m(self, X, n_neighbors, return_distance)\u001b[0m\n\u001b[0;32m    804\u001b[0m         X \u001b[39m=\u001b[39m _check_precomputed(X)\n\u001b[0;32m    805\u001b[0m     \u001b[39melse\u001b[39;00m:\n\u001b[1;32m--> 806\u001b[0m         X \u001b[39m=\u001b[39m \u001b[39mself\u001b[39;49m\u001b[39m.\u001b[39;49m_validate_data(X, accept_sparse\u001b[39m=\u001b[39;49m\u001b[39m\"\u001b[39;49m\u001b[39mcsr\u001b[39;49m\u001b[39m\"\u001b[39;49m, reset\u001b[39m=\u001b[39;49m\u001b[39mFalse\u001b[39;49;00m, order\u001b[39m=\u001b[39;49m\u001b[39m\"\u001b[39;49m\u001b[39mC\u001b[39;49m\u001b[39m\"\u001b[39;49m)\n\u001b[0;32m    808\u001b[0m n_samples_fit \u001b[39m=\u001b[39m \u001b[39mself\u001b[39m\u001b[39m.\u001b[39mn_samples_fit_\n\u001b[0;32m    809\u001b[0m \u001b[39mif\u001b[39;00m n_neighbors \u001b[39m>\u001b[39m n_samples_fit:\n",
      "File \u001b[1;32mc:\\Users\\jgril\\miniconda3\\lib\\site-packages\\sklearn\\base.py:569\u001b[0m, in \u001b[0;36mBaseEstimator._validate_data\u001b[1;34m(self, X, y, reset, validate_separately, **check_params)\u001b[0m\n\u001b[0;32m    566\u001b[0m     out \u001b[39m=\u001b[39m X, y\n\u001b[0;32m    568\u001b[0m \u001b[39mif\u001b[39;00m \u001b[39mnot\u001b[39;00m no_val_X \u001b[39mand\u001b[39;00m check_params\u001b[39m.\u001b[39mget(\u001b[39m\"\u001b[39m\u001b[39mensure_2d\u001b[39m\u001b[39m\"\u001b[39m, \u001b[39mTrue\u001b[39;00m):\n\u001b[1;32m--> 569\u001b[0m     \u001b[39mself\u001b[39;49m\u001b[39m.\u001b[39;49m_check_n_features(X, reset\u001b[39m=\u001b[39;49mreset)\n\u001b[0;32m    571\u001b[0m \u001b[39mreturn\u001b[39;00m out\n",
      "File \u001b[1;32mc:\\Users\\jgril\\miniconda3\\lib\\site-packages\\sklearn\\base.py:370\u001b[0m, in \u001b[0;36mBaseEstimator._check_n_features\u001b[1;34m(self, X, reset)\u001b[0m\n\u001b[0;32m    367\u001b[0m     \u001b[39mreturn\u001b[39;00m\n\u001b[0;32m    369\u001b[0m \u001b[39mif\u001b[39;00m n_features \u001b[39m!=\u001b[39m \u001b[39mself\u001b[39m\u001b[39m.\u001b[39mn_features_in_:\n\u001b[1;32m--> 370\u001b[0m     \u001b[39mraise\u001b[39;00m \u001b[39mValueError\u001b[39;00m(\n\u001b[0;32m    371\u001b[0m         \u001b[39mf\u001b[39m\u001b[39m\"\u001b[39m\u001b[39mX has \u001b[39m\u001b[39m{\u001b[39;00mn_features\u001b[39m}\u001b[39;00m\u001b[39m features, but \u001b[39m\u001b[39m{\u001b[39;00m\u001b[39mself\u001b[39m\u001b[39m.\u001b[39m\u001b[39m__class__\u001b[39m\u001b[39m.\u001b[39m\u001b[39m__name__\u001b[39m\u001b[39m}\u001b[39;00m\u001b[39m \u001b[39m\u001b[39m\"\u001b[39m\n\u001b[0;32m    372\u001b[0m         \u001b[39mf\u001b[39m\u001b[39m\"\u001b[39m\u001b[39mis expecting \u001b[39m\u001b[39m{\u001b[39;00m\u001b[39mself\u001b[39m\u001b[39m.\u001b[39mn_features_in_\u001b[39m}\u001b[39;00m\u001b[39m features as input.\u001b[39m\u001b[39m\"\u001b[39m\n\u001b[0;32m    373\u001b[0m     )\n",
      "\u001b[1;31mValueError\u001b[0m: X has 50176 features, but KNeighborsClassifier is expecting 100 features as input."
     ]
    }
   ],
   "source": [
    "y_score = knn.predict_proba(X_test)\n",
    "\n",
    "label_binarizer = LabelBinarizer().fit(y_train)\n",
    "y_onehot_test = label_binarizer.transform(y_test)\n",
    "\n",
    "RocCurveDisplay.from_predictions(\n",
    "    y_onehot_test.ravel(),\n",
    "    y_score.ravel(),\n",
    "    name=\"micro-average OvR\",\n",
    "    color=\"red\",\n",
    ")\n",
    "\n",
    "plt.plot([0, 1], [0, 1], \"k--\", label=\"chance level (AUC = 0.5)\")\n",
    "plt.axis(\"square\")\n",
    "plt.xlabel(\"False Positive Rate\")\n",
    "plt.ylabel(\"True Positive Rate\")\n",
    "plt.title(\"Micro-averaged One-vs-Rest\\nReceiver Operating Characteristic\")\n",
    "plt.legend()\n",
    "plt.show()"
   ]
  },
  {
   "attachments": {},
   "cell_type": "markdown",
   "metadata": {},
   "source": [
    "KNN w/ Bad Norm"
   ]
  },
  {
   "cell_type": "code",
   "execution_count": 27,
   "metadata": {},
   "outputs": [
    {
     "name": "stdout",
     "output_type": "stream",
     "text": [
      "(24252, 100)\n",
      "Accuracy: 0.40453236509327656\n",
      "Balanced_Accuracy: 0.3481630121031043\n"
     ]
    }
   ],
   "source": [
    "import numpy as np\n",
    "import cv2\n",
    "import os\n",
    "from sklearn.neighbors import KNeighborsClassifier\n",
    "from sklearn.metrics import accuracy_score\n",
    "\n",
    "# Set number of neighbors\n",
    "k = 5\n",
    "\n",
    "# Read dataset\n",
    "X_train = stupid_images_train\n",
    "y_train = stupid_labels_train\n",
    "X_test = stupid_images_test\n",
    "y_test = stupid_labels_test\n",
    "\n",
    "# Fit kNN model\n",
    "knn = KNeighborsClassifier(n_neighbors=k)\n",
    "knn.fit(X_train, y_train)\n",
    "\n",
    "# Predict labels for testing set\n",
    "y_pred = knn.predict(X_test)\n",
    "\n",
    "# Calculate accuracy score\n",
    "accuracy = accuracy_score(y_test, y_pred)\n",
    "balanced_accuracy = balanced_accuracy_score(y_test, y_pred)\n",
    "print('Accuracy:', accuracy)\n",
    "print(\"Balanced_Accuracy:\", balanced_accuracy)"
   ]
  },
  {
   "cell_type": "code",
   "execution_count": 21,
   "metadata": {},
   "outputs": [
    {
     "data": {
      "image/png": "[encoded data removed]",
      "text/plain": [
       "<Figure size 640x480 with 1 Axes>"
      ]
     },
     "metadata": {},
     "output_type": "display_data"
    }
   ],
   "source": [
    "classifier = KNeighborsClassifier()\n",
    "y_score = classifier.fit(X_train, y_train).predict_proba(X_test)\n",
    "\n",
    "label_binarizer = LabelBinarizer().fit(y_train)\n",
    "y_onehot_test = label_binarizer.transform(y_test)\n",
    "\n",
    "RocCurveDisplay.from_predictions(\n",
    "    y_onehot_test.ravel(),\n",
    "    y_score.ravel(),\n",
    "    name=\"micro-average OvR\",\n",
    "    color=\"darkorange\",\n",
    ")\n",
    "plt.plot([0, 1], [0, 1], \"k--\", label=\"chance level (AUC = 0.5)\")\n",
    "plt.axis(\"square\")\n",
    "plt.xlabel(\"False Positive Rate\")\n",
    "plt.ylabel(\"True Positive Rate\")\n",
    "plt.title(\"Micro-averaged One-vs-Rest\\nReceiver Operating Characteristic\")\n",
    "plt.legend()\n",
    "plt.show()\n"
   ]
  },
  {
   "cell_type": "code",
   "execution_count": 22,
   "metadata": {},
   "outputs": [
    {
     "name": "stdout",
     "output_type": "stream",
     "text": [
      "Recall: [0.37755102 0.50306122 0.12574062]\n",
      "Precision: [0.32743363 0.50460594 0.16739702]\n",
      "The F1 score for each class can be represented as such: \n",
      "[0.3507109  0.5038324  0.14360902]\n"
     ]
    }
   ],
   "source": [
    "from sklearn.metrics import f1_score, recall_score, precision_score\n",
    "print(\"Recall: \" + str(recall_score(y_test, y_pred, average = None)))\n",
    "print(\"Precision: \" + str(precision_score(y_test, y_pred, average = None, zero_division = 0)))\n",
    "\n",
    "print(\"The F1 score for each class can be represented as such: \")\n",
    "print(f1_score(y_test, y_pred, average=None))"
   ]
  },
  {
   "cell_type": "code",
   "execution_count": 23,
   "metadata": {},
   "outputs": [
    {
     "data": {
      "image/png": "[encoded data removed]",
      "text/plain": [
       "<Figure size 600x600 with 1 Axes>"
      ]
     },
     "metadata": {},
     "output_type": "display_data"
    }
   ],
   "source": [
    "from sklearn.metrics import confusion_matrix\n",
    "conf_matrix = confusion_matrix(y_test, y_pred)\n",
    "fig, ax = plt.subplots(figsize=(6, 6))\n",
    "ax.matshow(conf_matrix, cmap=plt.cm.Blues, alpha=0.3)\n",
    "for i in range(conf_matrix.shape[0]):\n",
    "    for j in range(conf_matrix.shape[1]):\n",
    "        ax.text(x=j, y=i,s=conf_matrix[i, j], va='center', ha='center', size='xx-large')\n",
    " \n",
    "plt.xlabel('Predictions', fontsize=14)\n",
    "plt.ylabel('Actuals', fontsize=14)\n",
    "plt.title('Confusion Matrix', fontsize=14)\n",
    "plt.show()"
   ]
  },
  {
   "cell_type": "markdown",
   "metadata": {},
   "source": []
  },
  {
   "cell_type": "markdown",
   "metadata": {},
   "source": []
  },
  {
   "cell_type": "markdown",
   "metadata": {},
   "source": []
  },
  {
   "cell_type": "markdown",
   "metadata": {},
   "source": []
  },
  {
   "cell_type": "markdown",
   "metadata": {},
   "source": []
  },
  {
   "cell_type": "markdown",
   "metadata": {},
   "source": []
  },
  {
   "cell_type": "markdown",
   "metadata": {},
   "source": []
  },
  {
   "attachments": {},
   "cell_type": "markdown",
   "metadata": {},
   "source": [
    "CNN"
   ]
  },
  {
   "attachments": {},
   "cell_type": "markdown",
   "metadata": {},
   "source": [
    "Untrained AlexNet"
   ]
  },
  {
   "cell_type": "code",
   "execution_count": 66,
   "metadata": {},
   "outputs": [
    {
     "name": "stderr",
     "output_type": "stream",
     "text": [
      "c:\\Users\\jgril\\miniconda3\\lib\\site-packages\\torchvision\\models\\_utils.py:208: UserWarning: The parameter 'pretrained' is deprecated since 0.13 and will be removed in 0.15, please use 'weights' instead.\n",
      "  warnings.warn(\n",
      "c:\\Users\\jgril\\miniconda3\\lib\\site-packages\\torchvision\\models\\_utils.py:223: UserWarning: Arguments other than a weight enum or `None` for 'weights' are deprecated since 0.13 and will be removed in 0.15. The current behavior is equivalent to passing `weights=None`.\n",
      "  warnings.warn(msg)\n"
     ]
    },
    {
     "name": "stdout",
     "output_type": "stream",
     "text": [
      "<bound method Module.named_modules of AlexNet(\n",
      "  (features): Sequential(\n",
      "    (0): Conv2d(3, 64, kernel_size=(11, 11), stride=(4, 4), padding=(2, 2))\n",
      "    (1): ReLU(inplace=True)\n",
      "    (2): MaxPool2d(kernel_size=3, stride=2, padding=0, dilation=1, ceil_mode=False)\n",
      "    (3): Conv2d(64, 192, kernel_size=(5, 5), stride=(1, 1), padding=(2, 2))\n",
      "    (4): ReLU(inplace=True)\n",
      "    (5): MaxPool2d(kernel_size=3, stride=2, padding=0, dilation=1, ceil_mode=False)\n",
      "    (6): Conv2d(192, 384, kernel_size=(3, 3), stride=(1, 1), padding=(1, 1))\n",
      "    (7): ReLU(inplace=True)\n",
      "    (8): Conv2d(384, 256, kernel_size=(3, 3), stride=(1, 1), padding=(1, 1))\n",
      "    (9): ReLU(inplace=True)\n",
      "    (10): Conv2d(256, 256, kernel_size=(3, 3), stride=(1, 1), padding=(1, 1))\n",
      "    (11): ReLU(inplace=True)\n",
      "    (12): MaxPool2d(kernel_size=3, stride=2, padding=0, dilation=1, ceil_mode=False)\n",
      "  )\n",
      "  (avgpool): AdaptiveAvgPool2d(output_size=(6, 6))\n",
      "  (classifier): Sequential(\n",
      "    (0): Dropout(p=0.5, inplace=False)\n",
      "    (1): Linear(in_features=9216, out_features=4096, bias=True)\n",
      "    (2): ReLU(inplace=True)\n",
      "    (3): Dropout(p=0.5, inplace=False)\n",
      "    (4): Linear(in_features=4096, out_features=4096, bias=True)\n",
      "    (5): ReLU(inplace=True)\n",
      "    (6): Linear(in_features=4096, out_features=1000, bias=True)\n",
      "  )\n",
      ")>\n",
      "torch.Size([1, 224, 224])\n"
     ]
    },
    {
     "ename": "KeyboardInterrupt",
     "evalue": "",
     "output_type": "error",
     "traceback": [
      "\u001b[1;31m---------------------------------------------------------------------------\u001b[0m",
      "\u001b[1;31mKeyboardInterrupt\u001b[0m                         Traceback (most recent call last)",
      "\u001b[1;32mc:\\Users\\jgril\\Documents\\GitHub\\8803_Final_Project\\8803FinalProject.ipynb Cell 39\u001b[0m in \u001b[0;36m4\n\u001b[0;32m     <a href='vscode-notebook-cell:/c%3A/Users/jgril/Documents/GitHub/8803_Final_Project/8803FinalProject.ipynb#X53sZmlsZQ%3D%3D?line=46'>47</a>\u001b[0m loss\u001b[39m.\u001b[39mbackward()\n\u001b[0;32m     <a href='vscode-notebook-cell:/c%3A/Users/jgril/Documents/GitHub/8803_Final_Project/8803FinalProject.ipynb#X53sZmlsZQ%3D%3D?line=47'>48</a>\u001b[0m optimizer\u001b[39m.\u001b[39mstep()\n\u001b[1;32m---> <a href='vscode-notebook-cell:/c%3A/Users/jgril/Documents/GitHub/8803_Final_Project/8803FinalProject.ipynb#X53sZmlsZQ%3D%3D?line=48'>49</a>\u001b[0m running_loss \u001b[39m+\u001b[39m\u001b[39m=\u001b[39m loss\u001b[39m.\u001b[39;49mitem()\n\u001b[0;32m     <a href='vscode-notebook-cell:/c%3A/Users/jgril/Documents/GitHub/8803_Final_Project/8803FinalProject.ipynb#X53sZmlsZQ%3D%3D?line=49'>50</a>\u001b[0m \u001b[39mif\u001b[39;00m i \u001b[39m%\u001b[39m \u001b[39m100\u001b[39m \u001b[39m==\u001b[39m \u001b[39m99\u001b[39m:\n\u001b[0;32m     <a href='vscode-notebook-cell:/c%3A/Users/jgril/Documents/GitHub/8803_Final_Project/8803FinalProject.ipynb#X53sZmlsZQ%3D%3D?line=50'>51</a>\u001b[0m     \u001b[39mprint\u001b[39m(\u001b[39m'\u001b[39m\u001b[39m[\u001b[39m\u001b[39m%d\u001b[39;00m\u001b[39m, \u001b[39m\u001b[39m%5d\u001b[39;00m\u001b[39m] loss: \u001b[39m\u001b[39m%.3f\u001b[39;00m\u001b[39m'\u001b[39m \u001b[39m%\u001b[39m (epoch \u001b[39m+\u001b[39m \u001b[39m1\u001b[39m, i \u001b[39m+\u001b[39m \u001b[39m1\u001b[39m, running_loss \u001b[39m/\u001b[39m \u001b[39m100\u001b[39m))\n",
      "\u001b[1;31mKeyboardInterrupt\u001b[0m: "
     ]
    }
   ],
   "source": [
    "import torch\n",
    "import torch.nn as nn\n",
    "import torch.optim as optim\n",
    "import torchvision\n",
    "import torchvision.models as models\n",
    "import torchvision.transforms as transforms\n",
    "import torchvision.datasets as datasets\n",
    "from torch.utils.data import DataLoader\n",
    "\n",
    "\n",
    "\n",
    "# Load pre-trained AlexNet model\n",
    "alexnet = models.alexnet(pretrained=False)\n",
    "\n",
    "#print(alexnet.named_modules)\n",
    "\n",
    "\"\"\"\n",
    "# Freeze all pre-trained layers\n",
    "for param in alexnet.parameters():\n",
    "    param.requires_grad = False\n",
    "\"\"\"\n",
    "    \n",
    "# Replace last fully connected layer with a new one\n",
    "num_classes = 3 # number of classes in your dataset\n",
    "alexnet.features[0] = nn.Conv2d(1, 64, kernel_size=3, stride=1, padding=3, bias=False)\n",
    "alexnet.classifier[6] = nn.Linear(4096, num_classes)\n",
    "\n",
    "# Define loss function and optimizer\n",
    "criterion = nn.CrossEntropyLoss()\n",
    "optimizer = optim.SGD(alexnet.parameters(), lr=0.001, momentum=0.9)\n",
    "\n",
    "print(image_trainset[0][0].shape)\n",
    "# Load your training and validation dataset\n",
    "train_loader = DataLoader(image_trainset, batch_size=64, shuffle=True)\n",
    "test_loader = DataLoader(image_testset, batch_size=64, shuffle=False)\n",
    "\n",
    "# Train the model\n",
    "device = torch.device(\"cuda\" if torch.cuda.is_available() else \"cpu\")\n",
    "alexnet.to(device)\n",
    "for epoch in range(10):\n",
    "    running_loss = 0.0\n",
    "    for i, (inputs, labels) in enumerate(train_loader, 0):\n",
    "        inputs, labels = inputs.to(device), labels.to(device)\n",
    "        optimizer.zero_grad()\n",
    "        outputs = alexnet(inputs)\n",
    "        loss = criterion(outputs, labels)\n",
    "        loss.backward()\n",
    "        optimizer.step()\n",
    "        running_loss += loss.item()\n",
    "        if i % 100 == 99:\n",
    "            print('[%d, %5d] loss: %.3f' % (epoch + 1, i + 1, running_loss / 100))\n",
    "            running_loss = 0.0\n",
    "\n",
    "print('Finished Training')\n"
   ]
  },
  {
   "attachments": {},
   "cell_type": "markdown",
   "metadata": {},
   "source": [
    "3D Alexnet"
   ]
  },
  {
   "cell_type": "code",
   "execution_count": null,
   "metadata": {},
   "outputs": [],
   "source": [
    "import torch.nn as nn\n",
    "\n",
    "class AlexNet3D(nn.Module):\n",
    "    def __init__(self, num_classes):\n",
    "        super(AlexNet3D, self).__init__()\n",
    "        \n",
    "        self.features = nn.Sequential(\n",
    "            nn.Conv3d(3, 64, kernel_size=11, stride=4, padding=2),\n",
    "            nn.ReLU(inplace=True),\n",
    "            nn.MaxPool3d(kernel_size=3, stride=2),\n",
    "            nn.Conv3d(64, 192, kernel_size=5, padding=2),\n",
    "            nn.ReLU(inplace=True),\n",
    "            nn.MaxPool3d(kernel_size=3, stride=2),\n",
    "            nn.Conv3d(192, 384, kernel_size=3, padding=1),\n",
    "            nn.ReLU(inplace=True),\n",
    "            nn.Conv3d(384, 256, kernel_size=3, padding=1),\n",
    "            nn.ReLU(inplace=True),\n",
    "            nn.Conv3d(256, 256, kernel_size=3, padding=1),\n",
    "            nn.ReLU(inplace=True),\n",
    "            nn.MaxPool3d(kernel_size=3, stride=2),\n",
    "        )\n",
    "        \n",
    "        self.avgpool = nn.AdaptiveAvgPool3d((6, 6, 6))\n",
    "        \n",
    "        self.classifier = nn.Sequential(\n",
    "            nn.Dropout(),\n",
    "            nn.Linear(256 * 6 * 6 * 6, 4096),\n",
    "            nn.ReLU(inplace=True),\n",
    "            nn.Dropout(),\n",
    "            nn.Linear(4096, 4096),\n",
    "            nn.ReLU(inplace=True),\n",
    "            nn.Linear(4096, num_classes),\n",
    "        )\n",
    "\n",
    "    def forward(self, x):\n",
    "        x = self.features(x)\n",
    "        x = self.avgpool(x)\n",
    "        x = x.view(x.size(0), 256 * 6 * 6 * 6)\n",
    "        x = self.classifier(x)\n",
    "        return x\n"
   ]
  },
  {
   "cell_type": "code",
   "execution_count": null,
   "metadata": {},
   "outputs": [
    {
     "name": "stdout",
     "output_type": "stream",
     "text": [
      "Accuracy of the network on the 7987 test images: 49 %\n"
     ]
    }
   ],
   "source": [
    "# Test the model\n",
    "alexnet.eval()\n",
    "total_correct = 0\n",
    "total_images = 0\n",
    "with torch.no_grad():\n",
    "    for inputs, labels in test_loader:\n",
    "        inputs, labels = inputs.to(device), labels.to(device)\n",
    "        outputs = alexnet(inputs)\n",
    "        _, predicted = torch.max(outputs.data, 1)\n",
    "        total_images += labels.size(0)\n",
    "        total_correct += (predicted == labels).sum().item()\n",
    "\n",
    "print('Accuracy of the network on the %d test images: %d %%' % (total_images, 100 * total_correct / total_images))"
   ]
  },
  {
   "attachments": {},
   "cell_type": "markdown",
   "metadata": {},
   "source": [
    "Try with PCA"
   ]
  },
  {
   "cell_type": "code",
   "execution_count": 76,
   "metadata": {},
   "outputs": [
    {
     "name": "stdout",
     "output_type": "stream",
     "text": [
      "(24252, 100)\n"
     ]
    },
    {
     "ename": "RuntimeError",
     "evalue": "shape '[1, 10, 10]' is invalid for input of size 2425200",
     "output_type": "error",
     "traceback": [
      "\u001b[1;31m---------------------------------------------------------------------------\u001b[0m",
      "\u001b[1;31mRuntimeError\u001b[0m                              Traceback (most recent call last)",
      "\u001b[1;32mc:\\Users\\jgril\\Documents\\GitHub\\8803_Final_Project\\8803FinalProject.ipynb Cell 42\u001b[0m in \u001b[0;36m2\n\u001b[0;32m     <a href='vscode-notebook-cell:/c%3A/Users/jgril/Documents/GitHub/8803_Final_Project/8803FinalProject.ipynb#Y102sZmlsZQ%3D%3D?line=23'>24</a>\u001b[0m y_train_tensor \u001b[39m=\u001b[39m torch\u001b[39m.\u001b[39mfrom_numpy(y_train)\u001b[39m.\u001b[39mlong()\n\u001b[0;32m     <a href='vscode-notebook-cell:/c%3A/Users/jgril/Documents/GitHub/8803_Final_Project/8803FinalProject.ipynb#Y102sZmlsZQ%3D%3D?line=24'>25</a>\u001b[0m y_test_tensor \u001b[39m=\u001b[39m torch\u001b[39m.\u001b[39mfrom_numpy(y_test)\u001b[39m.\u001b[39mlong()\n\u001b[1;32m---> <a href='vscode-notebook-cell:/c%3A/Users/jgril/Documents/GitHub/8803_Final_Project/8803FinalProject.ipynb#Y102sZmlsZQ%3D%3D?line=25'>26</a>\u001b[0m train_PCA_tensor \u001b[39m=\u001b[39m train_PCA_tensor\u001b[39m.\u001b[39;49mreshape(\u001b[39m1\u001b[39;49m, \u001b[39m10\u001b[39;49m, \u001b[39m10\u001b[39;49m)\n\u001b[0;32m     <a href='vscode-notebook-cell:/c%3A/Users/jgril/Documents/GitHub/8803_Final_Project/8803FinalProject.ipynb#Y102sZmlsZQ%3D%3D?line=26'>27</a>\u001b[0m test_PCA_tensor \u001b[39m=\u001b[39m test_PCA_tensor\u001b[39m.\u001b[39mreshape(\u001b[39m1\u001b[39m, \u001b[39m10\u001b[39m, \u001b[39m10\u001b[39m)\n\u001b[0;32m     <a href='vscode-notebook-cell:/c%3A/Users/jgril/Documents/GitHub/8803_Final_Project/8803FinalProject.ipynb#Y102sZmlsZQ%3D%3D?line=28'>29</a>\u001b[0m \u001b[39m# Create tensor datasets\u001b[39;00m\n",
      "\u001b[1;31mRuntimeError\u001b[0m: shape '[1, 10, 10]' is invalid for input of size 2425200"
     ]
    }
   ],
   "source": [
    "import torch\n",
    "import torch.nn as nn\n",
    "import torch.optim as optim\n",
    "from torchvision import models\n",
    "from torch.utils.data import DataLoader, TensorDataset\n",
    "import numpy as np\n",
    "\n",
    "# Load your training and validation datasets\n",
    "X_train = stupid_images_train\n",
    "y_train = stupid_labels_train\n",
    "X_test = stupid_images_test\n",
    "y_test = stupid_labels_test\n",
    "\n",
    "# Flatten images and perform PCA\n",
    "n_PCA_components = 100\n",
    "pca = PCA(n_components=n_PCA_components)\n",
    "train_PCA = pca.fit_transform(X_train)\n",
    "test_PCA = pca.transform(X_test)\n",
    "print(train_PCA.shape)\n",
    "\n",
    "# Convert to PyTorch tensors\n",
    "train_PCA_tensor = torch.from_numpy(train_PCA).float()\n",
    "test_PCA_tensor = torch.from_numpy(test_PCA).float()\n",
    "y_train_tensor = torch.from_numpy(y_train).long()\n",
    "y_test_tensor = torch.from_numpy(y_test).long()\n",
    "train_PCA_tensor = train_PCA_tensor.reshape(1, 10, 10)\n",
    "test_PCA_tensor = test_PCA_tensor.reshape(1, 10, 10)\n",
    "\n",
    "# Create tensor datasets\n",
    "train_dataset = TensorDataset(train_PCA_tensor, y_train_tensor)\n",
    "test_dataset = TensorDataset(test_PCA_tensor, y_test_tensor)\n",
    "\n",
    "# Define batch size and data loaders\n",
    "batch_size = 64\n",
    "train_loader = DataLoader(train_dataset, batch_size=batch_size, shuffle=True)\n",
    "test_loader = DataLoader(test_dataset, batch_size=batch_size, shuffle=False)\n",
    "\n",
    "# Load pre-trained AlexNet model\n",
    "alexnet = models.alexnet(pretrained=False)\n",
    "\n",
    "alexnet.features[0] = nn.Conv2d(n_PCA_components, 64, kernel_size=3, stride=1, padding='same', bias=False)\n",
    "alexnet.features[2] = nn.MaxPool2d(kernel_size=3, stride=1, padding=0, dilation=1, ceil_mode=False)\n",
    "alexnet.features[3] = nn.Conv2d(64, 192, kernel_size=(3, 3), stride=(1, 1), padding='same')\n",
    "alexnet.features[5] = nn.MaxPool2d(kernel_size=3, stride=1, padding=0, dilation=1, ceil_mode=False)\n",
    "alexnet.features[12] = nn.MaxPool2d(kernel_size=3, stride=1, padding=0, dilation=1, ceil_mode=False)\n",
    "\n",
    "\n",
    "alexnet.classifier[6] = nn.Linear(4096, 3)\n",
    "\n",
    "\n",
    "print(alexnet.named_modules)\n",
    "\n",
    "# Define loss function and optimizer\n",
    "criterion = nn.CrossEntropyLoss()\n",
    "optimizer = optim.SGD(alexnet.parameters(), lr=0.001, momentum=0.9)\n",
    "\n",
    "# Train the model\n",
    "device = torch.device(\"cuda\" if torch.cuda.is_available() else \"cpu\")\n",
    "alexnet.to(device)\n",
    "num_epochs = 10\n",
    "for epoch in range(num_epochs):\n",
    "    running_loss = 0.0\n",
    "    for i, (inputs, labels) in enumerate(train_loader, 0):\n",
    "        inputs, labels = inputs.to(device), labels.to(device)\n",
    "        optimizer.zero_grad()\n",
    "        outputs = alexnet(inputs.unsqueeze(2).unsqueeze(2))\n",
    "        loss = criterion(outputs, labels)\n",
    "        loss.backward()\n",
    "        optimizer.step()\n",
    "        running_loss += loss.item()\n",
    "        if i % 100 == 99:\n",
    "            print('[%d, %5d] loss: %.3f' % (epoch + 1, i + 1, running_loss / 100))\n",
    "            running_loss = 0.0\n",
    "\n",
    "print('Finished Training')\n"
   ]
  },
  {
   "cell_type": "code",
   "execution_count": 19,
   "metadata": {},
   "outputs": [],
   "source": [
    "import torch\n",
    "import torch.nn as nn\n",
    "import torch.optim as optim\n",
    "import torchvision\n",
    "import torchvision.models as models\n",
    "import torchvision.transforms as transforms\n",
    "import torchvision.datasets as datasets\n",
    "from torch.utils.data import DataLoader\n",
    "from torch.utils.data import TensorDataset, DataLoader"
   ]
  },
  {
   "cell_type": "code",
   "execution_count": 17,
   "metadata": {},
   "outputs": [
    {
     "name": "stdout",
     "output_type": "stream",
     "text": [
      "<bound method Module.named_modules of AlexNet(\n",
      "  (features): Sequential(\n",
      "    (0): Conv2d(3, 64, kernel_size=(11, 11), stride=(4, 4), padding=(2, 2))\n",
      "    (1): ReLU(inplace=True)\n",
      "    (2): MaxPool2d(kernel_size=3, stride=2, padding=0, dilation=1, ceil_mode=False)\n",
      "    (3): Conv2d(64, 192, kernel_size=(5, 5), stride=(1, 1), padding=(2, 2))\n",
      "    (4): ReLU(inplace=True)\n",
      "    (5): MaxPool2d(kernel_size=3, stride=2, padding=0, dilation=1, ceil_mode=False)\n",
      "    (6): Conv2d(192, 384, kernel_size=(3, 3), stride=(1, 1), padding=(1, 1))\n",
      "    (7): ReLU(inplace=True)\n",
      "    (8): Conv2d(384, 256, kernel_size=(3, 3), stride=(1, 1), padding=(1, 1))\n",
      "    (9): ReLU(inplace=True)\n",
      "    (10): Conv2d(256, 256, kernel_size=(3, 3), stride=(1, 1), padding=(1, 1))\n",
      "    (11): ReLU(inplace=True)\n",
      "    (12): MaxPool2d(kernel_size=3, stride=2, padding=0, dilation=1, ceil_mode=False)\n",
      "  )\n",
      "  (avgpool): AdaptiveAvgPool2d(output_size=(6, 6))\n",
      "  (classifier): Sequential(\n",
      "    (0): Dropout(p=0.5, inplace=False)\n",
      "    (1): Linear(in_features=9216, out_features=4096, bias=True)\n",
      "    (2): ReLU(inplace=True)\n",
      "    (3): Dropout(p=0.5, inplace=False)\n",
      "    (4): Linear(in_features=4096, out_features=4096, bias=True)\n",
      "    (5): ReLU(inplace=True)\n",
      "    (6): Linear(in_features=4096, out_features=1000, bias=True)\n",
      "  )\n",
      ")>\n"
     ]
    }
   ],
   "source": [
    "# Load pre-trained AlexNet model\n",
    "alexnet = models.alexnet(pretrained=False)\n",
    "print(alexnet.named_modules)"
   ]
  },
  {
   "cell_type": "code",
   "execution_count": 59,
   "metadata": {},
   "outputs": [],
   "source": [
    "# Format our train and test sets\n",
    "X_train = stupid_images_train\n",
    "y_train = stupid_labels_train\n",
    "X_test = stupid_images_test\n",
    "y_test = stupid_labels_test"
   ]
  },
  {
   "cell_type": "code",
   "execution_count": 61,
   "metadata": {},
   "outputs": [
    {
     "name": "stdout",
     "output_type": "stream",
     "text": [
      "X_train:  (24252, 50176)\n",
      "X_test:  (7987, 50176)\n",
      "Train PCA:  (24252, 100)\n",
      "Test PCA:  (7987, 100)\n",
      "Tensor Train PCA:  (24252, 100)\n",
      "Tensor Test PCA:  (7987, 100)\n"
     ]
    }
   ],
   "source": [
    "# Fit the PCA\n",
    "print(\"X_train: \", X_train.shape)\n",
    "print(\"X_test: \", X_test.shape)\n",
    "\n",
    "n_PCA_components = 100\n",
    "pca = PCA(n_components=n_PCA_components)\n",
    "train_PCA = pca.fit_transform(X_train)\n",
    "test_PCA = pca.transform(X_test) #Make sure you are just transforming, not fitting. \n",
    "\n",
    "print(\"Train PCA: \", train_PCA.shape)\n",
    "print(\"Test PCA: \", test_PCA.shape)\n",
    "\n",
    "\n",
    "\n",
    "print(\"Tensor Train PCA: \", train_PCA.shape)\n",
    "print(\"Tensor Test PCA: \", test_PCA.shape)\n",
    "\n"
   ]
  },
  {
   "cell_type": "code",
   "execution_count": 64,
   "metadata": {},
   "outputs": [],
   "source": [
    "train_PCA_tensor = torch.from_numpy(train_PCA).float()\n",
    "test_PCA_tensor = torch.from_numpy(test_PCA).float()\n",
    "y_train_tensor = torch.tensor(y_train)\n",
    "y_test_tensor = torch.tensor(y_test)\n",
    "\n",
    "train_PCA_tensor = train_PCA_tensor.reshape(1, 10, 10)\n",
    "test_PCA_tensor = test_PCA_tensor.reshape(1, 10, 10)\n",
    "\n",
    "\n",
    "# Create tensor datasets\n",
    "PCA_dataset_train = TensorDataset(train_PCA_tensor, y_train_tensor)\n",
    "PCA_dataset_test = TensorDataset(test_PCA_tensor, y_test_tensor)\n",
    "\n",
    "\n",
    "\n",
    "\n",
    "\n",
    "\n"
   ]
  },
  {
   "cell_type": "code",
   "execution_count": 68,
   "metadata": {},
   "outputs": [
    {
     "name": "stdout",
     "output_type": "stream",
     "text": [
      "tensor([[[[ 1.0216e+02,  2.3115e+01,  1.0771e+02,  ..., -1.5208e+01,\n",
      "            6.1826e+00,  6.5096e+01],\n",
      "          [ 1.5710e+01, -1.6061e+01,  1.7945e+01,  ...,  2.4457e+00,\n",
      "            9.0017e+00,  1.9633e+00],\n",
      "          [-1.3133e+00, -3.5751e+00,  4.9646e+00,  ..., -1.2496e+00,\n",
      "           -9.5470e+00,  9.4436e+00],\n",
      "          ...,\n",
      "          [-4.0290e+00, -2.9101e+00,  1.5960e+00,  ..., -2.9969e+00,\n",
      "            4.3819e+00, -1.7679e-03],\n",
      "          [-5.3322e-01,  2.5847e+00,  4.2701e+00,  ...,  2.7218e+00,\n",
      "           -7.7378e+00,  5.0744e+00],\n",
      "          [-3.3130e+00,  8.0040e-01,  1.6719e+00,  ..., -1.5583e+00,\n",
      "            1.2974e+00, -2.5699e+00]]],\n",
      "\n",
      "\n",
      "        [[[ 1.6393e+02,  8.4415e+01,  4.2815e+01,  ...,  2.7239e+01,\n",
      "           -2.5538e+01, -2.6342e+01],\n",
      "          [-5.3091e+00, -3.9659e+00,  1.1198e+01,  ..., -1.9994e+00,\n",
      "           -6.6682e+00, -3.8705e+00],\n",
      "          [-6.6887e+00, -3.5725e+00,  3.2837e+00,  ..., -2.0809e+00,\n",
      "            6.8159e-01,  4.9834e+00],\n",
      "          ...,\n",
      "          [-1.7790e+00,  1.9117e+00,  1.8189e+01,  ..., -1.0546e+01,\n",
      "            4.2004e-02,  5.7481e+00],\n",
      "          [ 3.6823e+00, -4.4031e+00, -1.2163e+01,  ..., -2.8798e+00,\n",
      "            1.1092e+00,  2.2328e+00],\n",
      "          [ 6.8995e+00,  1.0741e+01,  1.9319e+00,  ...,  5.9650e-01,\n",
      "            2.9560e+00, -3.8266e+00]]],\n",
      "\n",
      "\n",
      "        [[[-5.9891e+01, -5.0630e+01,  5.9626e+01,  ...,  1.5699e+01,\n",
      "            3.6172e+00, -6.3873e+00],\n",
      "          [ 1.7668e+01, -1.6344e+01, -1.5660e+01,  ...,  2.5215e+01,\n",
      "           -7.6477e+00,  9.3621e-01],\n",
      "          [ 2.2311e+01, -8.4802e+00, -8.9434e+00,  ...,  1.5476e+00,\n",
      "            2.5371e+00, -1.3145e+01],\n",
      "          ...,\n",
      "          [ 4.6075e+00,  1.0127e+00, -7.2717e-01,  ..., -1.9227e+00,\n",
      "            3.0158e+00,  4.4855e+00],\n",
      "          [ 3.2249e+00, -5.1939e+00, -9.6698e-01,  ...,  2.9712e+00,\n",
      "           -1.5255e+00,  3.9050e+00],\n",
      "          [ 2.2242e+00, -1.5690e+00,  3.3151e+00,  ..., -3.4482e-01,\n",
      "           -3.2372e-01, -1.3886e+00]]],\n",
      "\n",
      "\n",
      "        ...,\n",
      "\n",
      "\n",
      "        [[[ 4.1824e-01, -6.8892e+01,  8.6076e+00,  ..., -8.5146e+00,\n",
      "           -9.1806e+00, -1.2714e+00],\n",
      "          [-1.8184e+01,  2.0910e+01,  1.4201e+01,  ...,  2.9171e+00,\n",
      "           -5.0143e+00, -2.8963e+01],\n",
      "          [-7.2691e+00, -8.6292e+00, -1.5569e+01,  ...,  9.5323e+00,\n",
      "           -1.1067e+01, -5.7595e-01],\n",
      "          ...,\n",
      "          [ 2.4246e-01,  3.7904e+00,  3.7670e+00,  ...,  1.3039e+00,\n",
      "            1.4370e+00,  3.2956e-01],\n",
      "          [-1.1740e+00,  8.0345e+00, -3.1731e-01,  ..., -8.4689e-01,\n",
      "           -4.5368e-01,  2.6049e+00],\n",
      "          [ 3.5779e+00, -2.9552e+00, -1.5121e+00,  ...,  4.2810e+00,\n",
      "            4.2091e+00, -8.1039e-01]]],\n",
      "\n",
      "\n",
      "        [[[ 8.5099e+00, -3.9998e+00, -1.3523e+01,  ...,  4.2168e+01,\n",
      "            1.9434e+01, -3.8770e+00],\n",
      "          [ 5.5530e+00,  6.6785e+00,  1.2889e+01,  ..., -4.5309e+00,\n",
      "            1.9156e+01,  2.4823e+01],\n",
      "          [ 6.5674e+00, -2.7469e+01,  1.2196e+01,  ...,  9.8509e+00,\n",
      "            1.9683e+01, -8.4900e+00],\n",
      "          ...,\n",
      "          [-5.3637e+00,  5.3155e+00, -6.3023e+00,  ..., -1.3196e+01,\n",
      "            7.9236e+00,  2.2357e-01],\n",
      "          [ 8.9530e+00, -9.4865e+00,  4.6078e+00,  ...,  4.5772e+00,\n",
      "            1.0394e+00, -8.2416e-01],\n",
      "          [ 3.6016e+00, -3.3401e+00, -1.8539e+00,  ..., -2.4259e+00,\n",
      "           -1.6549e+00, -7.2394e+00]]],\n",
      "\n",
      "\n",
      "        [[[-4.6559e+01,  2.4495e+01, -2.8818e+00,  ...,  2.8977e+01,\n",
      "           -2.8106e+01,  1.3603e+00],\n",
      "          [ 1.0697e+01, -1.9276e+01, -1.2540e+01,  ...,  2.0828e+01,\n",
      "            4.9353e-01, -4.6622e+00],\n",
      "          [-2.5081e+01, -7.7331e+00,  9.5230e+00,  ..., -9.2632e+00,\n",
      "           -1.2788e+01,  7.8004e+00],\n",
      "          ...,\n",
      "          [-3.0172e+00,  1.1373e+01, -1.7458e+00,  ...,  1.2939e+00,\n",
      "           -6.2506e+00,  6.8851e+00],\n",
      "          [-6.9314e-01, -6.0012e+00,  4.4226e+00,  ..., -5.8232e-01,\n",
      "            2.5559e+00, -4.6168e+00],\n",
      "          [-2.8296e+00,  5.7511e+00, -3.6152e+00,  ..., -1.1381e+00,\n",
      "            4.2899e+00,  3.1013e+00]]]])\n"
     ]
    },
    {
     "ename": "RuntimeError",
     "evalue": "Given input size: (256x2x2). Calculated output size: (256x0x0). Output size is too small",
     "output_type": "error",
     "traceback": [
      "\u001b[1;31m---------------------------------------------------------------------------\u001b[0m",
      "\u001b[1;31mRuntimeError\u001b[0m                              Traceback (most recent call last)",
      "\u001b[1;32mc:\\Users\\jgril\\Documents\\GitHub\\8803_Final_Project\\8803FinalProject.ipynb Cell 47\u001b[0m in \u001b[0;36m2\n\u001b[0;32m     <a href='vscode-notebook-cell:/c%3A/Users/jgril/Documents/GitHub/8803_Final_Project/8803FinalProject.ipynb#X64sZmlsZQ%3D%3D?line=22'>23</a>\u001b[0m inputs, labels \u001b[39m=\u001b[39m inputs\u001b[39m.\u001b[39mto(device), labels\u001b[39m.\u001b[39mto(device)\n\u001b[0;32m     <a href='vscode-notebook-cell:/c%3A/Users/jgril/Documents/GitHub/8803_Final_Project/8803FinalProject.ipynb#X64sZmlsZQ%3D%3D?line=23'>24</a>\u001b[0m optimizer\u001b[39m.\u001b[39mzero_grad()\n\u001b[1;32m---> <a href='vscode-notebook-cell:/c%3A/Users/jgril/Documents/GitHub/8803_Final_Project/8803FinalProject.ipynb#X64sZmlsZQ%3D%3D?line=24'>25</a>\u001b[0m outputs \u001b[39m=\u001b[39m alexnet(inputs)\n\u001b[0;32m     <a href='vscode-notebook-cell:/c%3A/Users/jgril/Documents/GitHub/8803_Final_Project/8803FinalProject.ipynb#X64sZmlsZQ%3D%3D?line=25'>26</a>\u001b[0m loss \u001b[39m=\u001b[39m criterion(outputs, labels)\n\u001b[0;32m     <a href='vscode-notebook-cell:/c%3A/Users/jgril/Documents/GitHub/8803_Final_Project/8803FinalProject.ipynb#X64sZmlsZQ%3D%3D?line=26'>27</a>\u001b[0m loss\u001b[39m.\u001b[39mbackward()\n",
      "File \u001b[1;32mc:\\Users\\jgril\\miniconda3\\lib\\site-packages\\torch\\nn\\modules\\module.py:1130\u001b[0m, in \u001b[0;36mModule._call_impl\u001b[1;34m(self, *input, **kwargs)\u001b[0m\n\u001b[0;32m   1126\u001b[0m \u001b[39m# If we don't have any hooks, we want to skip the rest of the logic in\u001b[39;00m\n\u001b[0;32m   1127\u001b[0m \u001b[39m# this function, and just call forward.\u001b[39;00m\n\u001b[0;32m   1128\u001b[0m \u001b[39mif\u001b[39;00m \u001b[39mnot\u001b[39;00m (\u001b[39mself\u001b[39m\u001b[39m.\u001b[39m_backward_hooks \u001b[39mor\u001b[39;00m \u001b[39mself\u001b[39m\u001b[39m.\u001b[39m_forward_hooks \u001b[39mor\u001b[39;00m \u001b[39mself\u001b[39m\u001b[39m.\u001b[39m_forward_pre_hooks \u001b[39mor\u001b[39;00m _global_backward_hooks\n\u001b[0;32m   1129\u001b[0m         \u001b[39mor\u001b[39;00m _global_forward_hooks \u001b[39mor\u001b[39;00m _global_forward_pre_hooks):\n\u001b[1;32m-> 1130\u001b[0m     \u001b[39mreturn\u001b[39;00m forward_call(\u001b[39m*\u001b[39m\u001b[39minput\u001b[39m, \u001b[39m*\u001b[39m\u001b[39m*\u001b[39mkwargs)\n\u001b[0;32m   1131\u001b[0m \u001b[39m# Do not call functions when jit is used\u001b[39;00m\n\u001b[0;32m   1132\u001b[0m full_backward_hooks, non_full_backward_hooks \u001b[39m=\u001b[39m [], []\n",
      "File \u001b[1;32mc:\\Users\\jgril\\miniconda3\\lib\\site-packages\\torchvision\\models\\alexnet.py:48\u001b[0m, in \u001b[0;36mAlexNet.forward\u001b[1;34m(self, x)\u001b[0m\n\u001b[0;32m     47\u001b[0m \u001b[39mdef\u001b[39;00m \u001b[39mforward\u001b[39m(\u001b[39mself\u001b[39m, x: torch\u001b[39m.\u001b[39mTensor) \u001b[39m-\u001b[39m\u001b[39m>\u001b[39m torch\u001b[39m.\u001b[39mTensor:\n\u001b[1;32m---> 48\u001b[0m     x \u001b[39m=\u001b[39m \u001b[39mself\u001b[39;49m\u001b[39m.\u001b[39;49mfeatures(x)\n\u001b[0;32m     49\u001b[0m     x \u001b[39m=\u001b[39m \u001b[39mself\u001b[39m\u001b[39m.\u001b[39mavgpool(x)\n\u001b[0;32m     50\u001b[0m     x \u001b[39m=\u001b[39m torch\u001b[39m.\u001b[39mflatten(x, \u001b[39m1\u001b[39m)\n",
      "File \u001b[1;32mc:\\Users\\jgril\\miniconda3\\lib\\site-packages\\torch\\nn\\modules\\module.py:1130\u001b[0m, in \u001b[0;36mModule._call_impl\u001b[1;34m(self, *input, **kwargs)\u001b[0m\n\u001b[0;32m   1126\u001b[0m \u001b[39m# If we don't have any hooks, we want to skip the rest of the logic in\u001b[39;00m\n\u001b[0;32m   1127\u001b[0m \u001b[39m# this function, and just call forward.\u001b[39;00m\n\u001b[0;32m   1128\u001b[0m \u001b[39mif\u001b[39;00m \u001b[39mnot\u001b[39;00m (\u001b[39mself\u001b[39m\u001b[39m.\u001b[39m_backward_hooks \u001b[39mor\u001b[39;00m \u001b[39mself\u001b[39m\u001b[39m.\u001b[39m_forward_hooks \u001b[39mor\u001b[39;00m \u001b[39mself\u001b[39m\u001b[39m.\u001b[39m_forward_pre_hooks \u001b[39mor\u001b[39;00m _global_backward_hooks\n\u001b[0;32m   1129\u001b[0m         \u001b[39mor\u001b[39;00m _global_forward_hooks \u001b[39mor\u001b[39;00m _global_forward_pre_hooks):\n\u001b[1;32m-> 1130\u001b[0m     \u001b[39mreturn\u001b[39;00m forward_call(\u001b[39m*\u001b[39m\u001b[39minput\u001b[39m, \u001b[39m*\u001b[39m\u001b[39m*\u001b[39mkwargs)\n\u001b[0;32m   1131\u001b[0m \u001b[39m# Do not call functions when jit is used\u001b[39;00m\n\u001b[0;32m   1132\u001b[0m full_backward_hooks, non_full_backward_hooks \u001b[39m=\u001b[39m [], []\n",
      "File \u001b[1;32mc:\\Users\\jgril\\miniconda3\\lib\\site-packages\\torch\\nn\\modules\\container.py:139\u001b[0m, in \u001b[0;36mSequential.forward\u001b[1;34m(self, input)\u001b[0m\n\u001b[0;32m    137\u001b[0m \u001b[39mdef\u001b[39;00m \u001b[39mforward\u001b[39m(\u001b[39mself\u001b[39m, \u001b[39minput\u001b[39m):\n\u001b[0;32m    138\u001b[0m     \u001b[39mfor\u001b[39;00m module \u001b[39min\u001b[39;00m \u001b[39mself\u001b[39m:\n\u001b[1;32m--> 139\u001b[0m         \u001b[39minput\u001b[39m \u001b[39m=\u001b[39m module(\u001b[39minput\u001b[39;49m)\n\u001b[0;32m    140\u001b[0m     \u001b[39mreturn\u001b[39;00m \u001b[39minput\u001b[39m\n",
      "File \u001b[1;32mc:\\Users\\jgril\\miniconda3\\lib\\site-packages\\torch\\nn\\modules\\module.py:1130\u001b[0m, in \u001b[0;36mModule._call_impl\u001b[1;34m(self, *input, **kwargs)\u001b[0m\n\u001b[0;32m   1126\u001b[0m \u001b[39m# If we don't have any hooks, we want to skip the rest of the logic in\u001b[39;00m\n\u001b[0;32m   1127\u001b[0m \u001b[39m# this function, and just call forward.\u001b[39;00m\n\u001b[0;32m   1128\u001b[0m \u001b[39mif\u001b[39;00m \u001b[39mnot\u001b[39;00m (\u001b[39mself\u001b[39m\u001b[39m.\u001b[39m_backward_hooks \u001b[39mor\u001b[39;00m \u001b[39mself\u001b[39m\u001b[39m.\u001b[39m_forward_hooks \u001b[39mor\u001b[39;00m \u001b[39mself\u001b[39m\u001b[39m.\u001b[39m_forward_pre_hooks \u001b[39mor\u001b[39;00m _global_backward_hooks\n\u001b[0;32m   1129\u001b[0m         \u001b[39mor\u001b[39;00m _global_forward_hooks \u001b[39mor\u001b[39;00m _global_forward_pre_hooks):\n\u001b[1;32m-> 1130\u001b[0m     \u001b[39mreturn\u001b[39;00m forward_call(\u001b[39m*\u001b[39m\u001b[39minput\u001b[39m, \u001b[39m*\u001b[39m\u001b[39m*\u001b[39mkwargs)\n\u001b[0;32m   1131\u001b[0m \u001b[39m# Do not call functions when jit is used\u001b[39;00m\n\u001b[0;32m   1132\u001b[0m full_backward_hooks, non_full_backward_hooks \u001b[39m=\u001b[39m [], []\n",
      "File \u001b[1;32mc:\\Users\\jgril\\miniconda3\\lib\\site-packages\\torch\\nn\\modules\\pooling.py:162\u001b[0m, in \u001b[0;36mMaxPool2d.forward\u001b[1;34m(self, input)\u001b[0m\n\u001b[0;32m    161\u001b[0m \u001b[39mdef\u001b[39;00m \u001b[39mforward\u001b[39m(\u001b[39mself\u001b[39m, \u001b[39minput\u001b[39m: Tensor):\n\u001b[1;32m--> 162\u001b[0m     \u001b[39mreturn\u001b[39;00m F\u001b[39m.\u001b[39;49mmax_pool2d(\u001b[39minput\u001b[39;49m, \u001b[39mself\u001b[39;49m\u001b[39m.\u001b[39;49mkernel_size, \u001b[39mself\u001b[39;49m\u001b[39m.\u001b[39;49mstride,\n\u001b[0;32m    163\u001b[0m                         \u001b[39mself\u001b[39;49m\u001b[39m.\u001b[39;49mpadding, \u001b[39mself\u001b[39;49m\u001b[39m.\u001b[39;49mdilation, ceil_mode\u001b[39m=\u001b[39;49m\u001b[39mself\u001b[39;49m\u001b[39m.\u001b[39;49mceil_mode,\n\u001b[0;32m    164\u001b[0m                         return_indices\u001b[39m=\u001b[39;49m\u001b[39mself\u001b[39;49m\u001b[39m.\u001b[39;49mreturn_indices)\n",
      "File \u001b[1;32mc:\\Users\\jgril\\miniconda3\\lib\\site-packages\\torch\\_jit_internal.py:423\u001b[0m, in \u001b[0;36mboolean_dispatch.<locals>.fn\u001b[1;34m(*args, **kwargs)\u001b[0m\n\u001b[0;32m    421\u001b[0m     \u001b[39mreturn\u001b[39;00m if_true(\u001b[39m*\u001b[39margs, \u001b[39m*\u001b[39m\u001b[39m*\u001b[39mkwargs)\n\u001b[0;32m    422\u001b[0m \u001b[39melse\u001b[39;00m:\n\u001b[1;32m--> 423\u001b[0m     \u001b[39mreturn\u001b[39;00m if_false(\u001b[39m*\u001b[39margs, \u001b[39m*\u001b[39m\u001b[39m*\u001b[39mkwargs)\n",
      "File \u001b[1;32mc:\\Users\\jgril\\miniconda3\\lib\\site-packages\\torch\\nn\\functional.py:782\u001b[0m, in \u001b[0;36m_max_pool2d\u001b[1;34m(input, kernel_size, stride, padding, dilation, ceil_mode, return_indices)\u001b[0m\n\u001b[0;32m    780\u001b[0m \u001b[39mif\u001b[39;00m stride \u001b[39mis\u001b[39;00m \u001b[39mNone\u001b[39;00m:\n\u001b[0;32m    781\u001b[0m     stride \u001b[39m=\u001b[39m torch\u001b[39m.\u001b[39mjit\u001b[39m.\u001b[39mannotate(List[\u001b[39mint\u001b[39m], [])\n\u001b[1;32m--> 782\u001b[0m \u001b[39mreturn\u001b[39;00m torch\u001b[39m.\u001b[39;49mmax_pool2d(\u001b[39minput\u001b[39;49m, kernel_size, stride, padding, dilation, ceil_mode)\n",
      "\u001b[1;31mRuntimeError\u001b[0m: Given input size: (256x2x2). Calculated output size: (256x0x0). Output size is too small"
     ]
    }
   ],
   "source": [
    "\n",
    "\n",
    "    \n",
    "# Replace last fully connected layer with a new one\n",
    "num_classes = 3 # number of classes in your dataset\n",
    "alexnet.features[0] = nn.Conv2d(1, 64, kernel_size=3, stride=1, padding=3, bias=False)\n",
    "alexnet.features.add_module(\"Flatten\", nn.Flatten())\n",
    "alexnet.classifier[6] = nn.Linear(4096, num_classes)\n",
    "\n",
    "# Define loss function and optimizer\n",
    "criterion = nn.CrossEntropyLoss()\n",
    "optimizer = optim.SGD(alexnet.parameters(), lr=0.001, momentum=0.9)\n",
    "\n",
    "\n",
    "# Load your training and validation datasets\n",
    "train_loader = DataLoader(PCA_dataset_train, batch_size=64, shuffle=True)\n",
    "test_loader = DataLoader(PCA_dataset_test, batch_size=64, shuffle=False)\n",
    "\n",
    "# Train the model\n",
    "device = torch.device(\"cuda\" if torch.cuda.is_available() else \"cpu\")\n",
    "alexnet.to(device)\n",
    "for epoch in range(10):\n",
    "    running_loss = 0.0\n",
    "    for i, (inputs, labels) in enumerate(train_loader, 0):\n",
    "        print(inputs)\n",
    "        inputs, labels = inputs.to(device), labels.to(device)\n",
    "        optimizer.zero_grad()\n",
    "        outputs = alexnet(inputs)\n",
    "        loss = criterion(outputs, labels)\n",
    "        loss.backward()\n",
    "        optimizer.step()\n",
    "        running_loss += loss.item()\n",
    "        if i % 100 == 99:\n",
    "            print('[%d, %5d] loss: %.3f' % (epoch + 1, i + 1, running_loss / 100))\n",
    "            running_loss = 0.0\n",
    "\n",
    "print('Finished Training')\n"
   ]
  },
  {
   "cell_type": "code",
   "execution_count": null,
   "metadata": {},
   "outputs": [],
   "source": [
    "# Test the model\n",
    "alexnet.eval()\n",
    "total_correct = 0\n",
    "total_images = 0\n",
    "with torch.no_grad():\n",
    "    for inputs, labels in test_loader:\n",
    "        inputs, labels = inputs.to(device), labels.to(device)\n",
    "        outputs = alexnet(inputs)\n",
    "        _, predicted = torch.max(outputs.data, 1)\n",
    "        total_images += labels.size(0)\n",
    "        total_correct += (predicted == labels).sum().item()\n",
    "\n",
    "print('Accuracy of the network on the %d test images: %d %%' % (total_images, 100 * total_correct / total_images))"
   ]
  },
  {
   "attachments": {},
   "cell_type": "markdown",
   "metadata": {},
   "source": [
    "Pretrained Resnet"
   ]
  },
  {
   "cell_type": "code",
   "execution_count": null,
   "metadata": {},
   "outputs": [
    {
     "name": "stderr",
     "output_type": "stream",
     "text": [
      "c:\\Users\\jgril\\miniconda3\\lib\\site-packages\\torchvision\\models\\_utils.py:208: UserWarning: The parameter 'pretrained' is deprecated since 0.13 and will be removed in 0.15, please use 'weights' instead.\n",
      "  warnings.warn(\n",
      "c:\\Users\\jgril\\miniconda3\\lib\\site-packages\\torchvision\\models\\_utils.py:223: UserWarning: Arguments other than a weight enum or `None` for 'weights' are deprecated since 0.13 and will be removed in 0.15. The current behavior is equivalent to passing `weights=ResNet18_Weights.IMAGENET1K_V1`. You can also use `weights=ResNet18_Weights.DEFAULT` to get the most up-to-date weights.\n",
      "  warnings.warn(msg)\n"
     ]
    },
    {
     "ename": "KeyboardInterrupt",
     "evalue": "",
     "output_type": "error",
     "traceback": [
      "\u001b[1;31m---------------------------------------------------------------------------\u001b[0m",
      "\u001b[1;31mKeyboardInterrupt\u001b[0m                         Traceback (most recent call last)",
      "\u001b[1;32mc:\\Users\\jgril\\Documents\\GitHub\\8803_Final_Project\\8803FinalProject.ipynb Cell 16\u001b[0m in \u001b[0;36m5\n\u001b[0;32m     <a href='vscode-notebook-cell:/c%3A/Users/jgril/Documents/GitHub/8803_Final_Project/8803FinalProject.ipynb#X16sZmlsZQ%3D%3D?line=47'>48</a>\u001b[0m inputs, labels \u001b[39m=\u001b[39m inputs\u001b[39m.\u001b[39mto(device), labels\u001b[39m.\u001b[39mto(device)\n\u001b[0;32m     <a href='vscode-notebook-cell:/c%3A/Users/jgril/Documents/GitHub/8803_Final_Project/8803FinalProject.ipynb#X16sZmlsZQ%3D%3D?line=48'>49</a>\u001b[0m optimizer\u001b[39m.\u001b[39mzero_grad()\n\u001b[1;32m---> <a href='vscode-notebook-cell:/c%3A/Users/jgril/Documents/GitHub/8803_Final_Project/8803FinalProject.ipynb#X16sZmlsZQ%3D%3D?line=49'>50</a>\u001b[0m outputs \u001b[39m=\u001b[39m model(inputs)\n\u001b[0;32m     <a href='vscode-notebook-cell:/c%3A/Users/jgril/Documents/GitHub/8803_Final_Project/8803FinalProject.ipynb#X16sZmlsZQ%3D%3D?line=50'>51</a>\u001b[0m loss \u001b[39m=\u001b[39m criterion(outputs, labels)\n\u001b[0;32m     <a href='vscode-notebook-cell:/c%3A/Users/jgril/Documents/GitHub/8803_Final_Project/8803FinalProject.ipynb#X16sZmlsZQ%3D%3D?line=51'>52</a>\u001b[0m loss\u001b[39m.\u001b[39mbackward()\n",
      "File \u001b[1;32mc:\\Users\\jgril\\miniconda3\\lib\\site-packages\\torch\\nn\\modules\\module.py:1130\u001b[0m, in \u001b[0;36mModule._call_impl\u001b[1;34m(self, *input, **kwargs)\u001b[0m\n\u001b[0;32m   1126\u001b[0m \u001b[39m# If we don't have any hooks, we want to skip the rest of the logic in\u001b[39;00m\n\u001b[0;32m   1127\u001b[0m \u001b[39m# this function, and just call forward.\u001b[39;00m\n\u001b[0;32m   1128\u001b[0m \u001b[39mif\u001b[39;00m \u001b[39mnot\u001b[39;00m (\u001b[39mself\u001b[39m\u001b[39m.\u001b[39m_backward_hooks \u001b[39mor\u001b[39;00m \u001b[39mself\u001b[39m\u001b[39m.\u001b[39m_forward_hooks \u001b[39mor\u001b[39;00m \u001b[39mself\u001b[39m\u001b[39m.\u001b[39m_forward_pre_hooks \u001b[39mor\u001b[39;00m _global_backward_hooks\n\u001b[0;32m   1129\u001b[0m         \u001b[39mor\u001b[39;00m _global_forward_hooks \u001b[39mor\u001b[39;00m _global_forward_pre_hooks):\n\u001b[1;32m-> 1130\u001b[0m     \u001b[39mreturn\u001b[39;00m forward_call(\u001b[39m*\u001b[39m\u001b[39minput\u001b[39m, \u001b[39m*\u001b[39m\u001b[39m*\u001b[39mkwargs)\n\u001b[0;32m   1131\u001b[0m \u001b[39m# Do not call functions when jit is used\u001b[39;00m\n\u001b[0;32m   1132\u001b[0m full_backward_hooks, non_full_backward_hooks \u001b[39m=\u001b[39m [], []\n",
      "File \u001b[1;32mc:\\Users\\jgril\\miniconda3\\lib\\site-packages\\torchvision\\models\\resnet.py:285\u001b[0m, in \u001b[0;36mResNet.forward\u001b[1;34m(self, x)\u001b[0m\n\u001b[0;32m    284\u001b[0m \u001b[39mdef\u001b[39;00m \u001b[39mforward\u001b[39m(\u001b[39mself\u001b[39m, x: Tensor) \u001b[39m-\u001b[39m\u001b[39m>\u001b[39m Tensor:\n\u001b[1;32m--> 285\u001b[0m     \u001b[39mreturn\u001b[39;00m \u001b[39mself\u001b[39;49m\u001b[39m.\u001b[39;49m_forward_impl(x)\n",
      "File \u001b[1;32mc:\\Users\\jgril\\miniconda3\\lib\\site-packages\\torchvision\\models\\resnet.py:275\u001b[0m, in \u001b[0;36mResNet._forward_impl\u001b[1;34m(self, x)\u001b[0m\n\u001b[0;32m    273\u001b[0m x \u001b[39m=\u001b[39m \u001b[39mself\u001b[39m\u001b[39m.\u001b[39mlayer1(x)\n\u001b[0;32m    274\u001b[0m x \u001b[39m=\u001b[39m \u001b[39mself\u001b[39m\u001b[39m.\u001b[39mlayer2(x)\n\u001b[1;32m--> 275\u001b[0m x \u001b[39m=\u001b[39m \u001b[39mself\u001b[39;49m\u001b[39m.\u001b[39;49mlayer3(x)\n\u001b[0;32m    276\u001b[0m x \u001b[39m=\u001b[39m \u001b[39mself\u001b[39m\u001b[39m.\u001b[39mlayer4(x)\n\u001b[0;32m    278\u001b[0m x \u001b[39m=\u001b[39m \u001b[39mself\u001b[39m\u001b[39m.\u001b[39mavgpool(x)\n",
      "File \u001b[1;32mc:\\Users\\jgril\\miniconda3\\lib\\site-packages\\torch\\nn\\modules\\module.py:1130\u001b[0m, in \u001b[0;36mModule._call_impl\u001b[1;34m(self, *input, **kwargs)\u001b[0m\n\u001b[0;32m   1126\u001b[0m \u001b[39m# If we don't have any hooks, we want to skip the rest of the logic in\u001b[39;00m\n\u001b[0;32m   1127\u001b[0m \u001b[39m# this function, and just call forward.\u001b[39;00m\n\u001b[0;32m   1128\u001b[0m \u001b[39mif\u001b[39;00m \u001b[39mnot\u001b[39;00m (\u001b[39mself\u001b[39m\u001b[39m.\u001b[39m_backward_hooks \u001b[39mor\u001b[39;00m \u001b[39mself\u001b[39m\u001b[39m.\u001b[39m_forward_hooks \u001b[39mor\u001b[39;00m \u001b[39mself\u001b[39m\u001b[39m.\u001b[39m_forward_pre_hooks \u001b[39mor\u001b[39;00m _global_backward_hooks\n\u001b[0;32m   1129\u001b[0m         \u001b[39mor\u001b[39;00m _global_forward_hooks \u001b[39mor\u001b[39;00m _global_forward_pre_hooks):\n\u001b[1;32m-> 1130\u001b[0m     \u001b[39mreturn\u001b[39;00m forward_call(\u001b[39m*\u001b[39m\u001b[39minput\u001b[39m, \u001b[39m*\u001b[39m\u001b[39m*\u001b[39mkwargs)\n\u001b[0;32m   1131\u001b[0m \u001b[39m# Do not call functions when jit is used\u001b[39;00m\n\u001b[0;32m   1132\u001b[0m full_backward_hooks, non_full_backward_hooks \u001b[39m=\u001b[39m [], []\n",
      "File \u001b[1;32mc:\\Users\\jgril\\miniconda3\\lib\\site-packages\\torch\\nn\\modules\\container.py:139\u001b[0m, in \u001b[0;36mSequential.forward\u001b[1;34m(self, input)\u001b[0m\n\u001b[0;32m    137\u001b[0m \u001b[39mdef\u001b[39;00m \u001b[39mforward\u001b[39m(\u001b[39mself\u001b[39m, \u001b[39minput\u001b[39m):\n\u001b[0;32m    138\u001b[0m     \u001b[39mfor\u001b[39;00m module \u001b[39min\u001b[39;00m \u001b[39mself\u001b[39m:\n\u001b[1;32m--> 139\u001b[0m         \u001b[39minput\u001b[39m \u001b[39m=\u001b[39m module(\u001b[39minput\u001b[39;49m)\n\u001b[0;32m    140\u001b[0m     \u001b[39mreturn\u001b[39;00m \u001b[39minput\u001b[39m\n",
      "File \u001b[1;32mc:\\Users\\jgril\\miniconda3\\lib\\site-packages\\torch\\nn\\modules\\module.py:1130\u001b[0m, in \u001b[0;36mModule._call_impl\u001b[1;34m(self, *input, **kwargs)\u001b[0m\n\u001b[0;32m   1126\u001b[0m \u001b[39m# If we don't have any hooks, we want to skip the rest of the logic in\u001b[39;00m\n\u001b[0;32m   1127\u001b[0m \u001b[39m# this function, and just call forward.\u001b[39;00m\n\u001b[0;32m   1128\u001b[0m \u001b[39mif\u001b[39;00m \u001b[39mnot\u001b[39;00m (\u001b[39mself\u001b[39m\u001b[39m.\u001b[39m_backward_hooks \u001b[39mor\u001b[39;00m \u001b[39mself\u001b[39m\u001b[39m.\u001b[39m_forward_hooks \u001b[39mor\u001b[39;00m \u001b[39mself\u001b[39m\u001b[39m.\u001b[39m_forward_pre_hooks \u001b[39mor\u001b[39;00m _global_backward_hooks\n\u001b[0;32m   1129\u001b[0m         \u001b[39mor\u001b[39;00m _global_forward_hooks \u001b[39mor\u001b[39;00m _global_forward_pre_hooks):\n\u001b[1;32m-> 1130\u001b[0m     \u001b[39mreturn\u001b[39;00m forward_call(\u001b[39m*\u001b[39m\u001b[39minput\u001b[39m, \u001b[39m*\u001b[39m\u001b[39m*\u001b[39mkwargs)\n\u001b[0;32m   1131\u001b[0m \u001b[39m# Do not call functions when jit is used\u001b[39;00m\n\u001b[0;32m   1132\u001b[0m full_backward_hooks, non_full_backward_hooks \u001b[39m=\u001b[39m [], []\n",
      "File \u001b[1;32mc:\\Users\\jgril\\miniconda3\\lib\\site-packages\\torchvision\\models\\resnet.py:92\u001b[0m, in \u001b[0;36mBasicBlock.forward\u001b[1;34m(self, x)\u001b[0m\n\u001b[0;32m     89\u001b[0m \u001b[39mdef\u001b[39;00m \u001b[39mforward\u001b[39m(\u001b[39mself\u001b[39m, x: Tensor) \u001b[39m-\u001b[39m\u001b[39m>\u001b[39m Tensor:\n\u001b[0;32m     90\u001b[0m     identity \u001b[39m=\u001b[39m x\n\u001b[1;32m---> 92\u001b[0m     out \u001b[39m=\u001b[39m \u001b[39mself\u001b[39;49m\u001b[39m.\u001b[39;49mconv1(x)\n\u001b[0;32m     93\u001b[0m     out \u001b[39m=\u001b[39m \u001b[39mself\u001b[39m\u001b[39m.\u001b[39mbn1(out)\n\u001b[0;32m     94\u001b[0m     out \u001b[39m=\u001b[39m \u001b[39mself\u001b[39m\u001b[39m.\u001b[39mrelu(out)\n",
      "File \u001b[1;32mc:\\Users\\jgril\\miniconda3\\lib\\site-packages\\torch\\nn\\modules\\module.py:1130\u001b[0m, in \u001b[0;36mModule._call_impl\u001b[1;34m(self, *input, **kwargs)\u001b[0m\n\u001b[0;32m   1126\u001b[0m \u001b[39m# If we don't have any hooks, we want to skip the rest of the logic in\u001b[39;00m\n\u001b[0;32m   1127\u001b[0m \u001b[39m# this function, and just call forward.\u001b[39;00m\n\u001b[0;32m   1128\u001b[0m \u001b[39mif\u001b[39;00m \u001b[39mnot\u001b[39;00m (\u001b[39mself\u001b[39m\u001b[39m.\u001b[39m_backward_hooks \u001b[39mor\u001b[39;00m \u001b[39mself\u001b[39m\u001b[39m.\u001b[39m_forward_hooks \u001b[39mor\u001b[39;00m \u001b[39mself\u001b[39m\u001b[39m.\u001b[39m_forward_pre_hooks \u001b[39mor\u001b[39;00m _global_backward_hooks\n\u001b[0;32m   1129\u001b[0m         \u001b[39mor\u001b[39;00m _global_forward_hooks \u001b[39mor\u001b[39;00m _global_forward_pre_hooks):\n\u001b[1;32m-> 1130\u001b[0m     \u001b[39mreturn\u001b[39;00m forward_call(\u001b[39m*\u001b[39m\u001b[39minput\u001b[39m, \u001b[39m*\u001b[39m\u001b[39m*\u001b[39mkwargs)\n\u001b[0;32m   1131\u001b[0m \u001b[39m# Do not call functions when jit is used\u001b[39;00m\n\u001b[0;32m   1132\u001b[0m full_backward_hooks, non_full_backward_hooks \u001b[39m=\u001b[39m [], []\n",
      "File \u001b[1;32mc:\\Users\\jgril\\miniconda3\\lib\\site-packages\\torch\\nn\\modules\\conv.py:457\u001b[0m, in \u001b[0;36mConv2d.forward\u001b[1;34m(self, input)\u001b[0m\n\u001b[0;32m    456\u001b[0m \u001b[39mdef\u001b[39;00m \u001b[39mforward\u001b[39m(\u001b[39mself\u001b[39m, \u001b[39minput\u001b[39m: Tensor) \u001b[39m-\u001b[39m\u001b[39m>\u001b[39m Tensor:\n\u001b[1;32m--> 457\u001b[0m     \u001b[39mreturn\u001b[39;00m \u001b[39mself\u001b[39;49m\u001b[39m.\u001b[39;49m_conv_forward(\u001b[39minput\u001b[39;49m, \u001b[39mself\u001b[39;49m\u001b[39m.\u001b[39;49mweight, \u001b[39mself\u001b[39;49m\u001b[39m.\u001b[39;49mbias)\n",
      "File \u001b[1;32mc:\\Users\\jgril\\miniconda3\\lib\\site-packages\\torch\\nn\\modules\\conv.py:453\u001b[0m, in \u001b[0;36mConv2d._conv_forward\u001b[1;34m(self, input, weight, bias)\u001b[0m\n\u001b[0;32m    449\u001b[0m \u001b[39mif\u001b[39;00m \u001b[39mself\u001b[39m\u001b[39m.\u001b[39mpadding_mode \u001b[39m!=\u001b[39m \u001b[39m'\u001b[39m\u001b[39mzeros\u001b[39m\u001b[39m'\u001b[39m:\n\u001b[0;32m    450\u001b[0m     \u001b[39mreturn\u001b[39;00m F\u001b[39m.\u001b[39mconv2d(F\u001b[39m.\u001b[39mpad(\u001b[39minput\u001b[39m, \u001b[39mself\u001b[39m\u001b[39m.\u001b[39m_reversed_padding_repeated_twice, mode\u001b[39m=\u001b[39m\u001b[39mself\u001b[39m\u001b[39m.\u001b[39mpadding_mode),\n\u001b[0;32m    451\u001b[0m                     weight, bias, \u001b[39mself\u001b[39m\u001b[39m.\u001b[39mstride,\n\u001b[0;32m    452\u001b[0m                     _pair(\u001b[39m0\u001b[39m), \u001b[39mself\u001b[39m\u001b[39m.\u001b[39mdilation, \u001b[39mself\u001b[39m\u001b[39m.\u001b[39mgroups)\n\u001b[1;32m--> 453\u001b[0m \u001b[39mreturn\u001b[39;00m F\u001b[39m.\u001b[39;49mconv2d(\u001b[39minput\u001b[39;49m, weight, bias, \u001b[39mself\u001b[39;49m\u001b[39m.\u001b[39;49mstride,\n\u001b[0;32m    454\u001b[0m                 \u001b[39mself\u001b[39;49m\u001b[39m.\u001b[39;49mpadding, \u001b[39mself\u001b[39;49m\u001b[39m.\u001b[39;49mdilation, \u001b[39mself\u001b[39;49m\u001b[39m.\u001b[39;49mgroups)\n",
      "\u001b[1;31mKeyboardInterrupt\u001b[0m: "
     ]
    }
   ],
   "source": [
    "import torch\n",
    "import torch.nn as nn\n",
    "import torch.optim as optim\n",
    "from torch.utils.data import DataLoader\n",
    "from torchvision.datasets import CIFAR10\n",
    "from torchvision.transforms import transforms\n",
    "from torchvision.models import resnet18\n",
    "\n",
    "'''\n",
    "# Define the transformation to apply to the images\n",
    "transform = transforms.Compose([\n",
    "    transforms.Grayscale(num_output_channels=1),  # Convert to grayscale\n",
    "    transforms.Resize((224, 224)),\n",
    "    transforms.ToTensor(),\n",
    "])\n",
    "'''\n",
    "\n",
    "\n",
    "# Define the dataset and data loader\n",
    "train_loader = DataLoader(image_trainset, batch_size=64, shuffle=True)\n",
    "test_loader = DataLoader(image_testset, batch_size=64, shuffle=False)\n",
    "\n",
    "\n",
    "\n",
    "# Load the pre-trained ResNet-18 model and modify it for grayscale images\n",
    "model = resnet18(pretrained=True)\n",
    "num_features = model.fc.in_features\n",
    "\n",
    "#freeze layers\n",
    "for param in model.parameters():\n",
    "    param.requires_grad = False\n",
    "\n",
    "model.conv1 = nn.Conv2d(1, 64, kernel_size=3, stride=1, padding=3, bias=False)\n",
    "model.fc = nn.Linear(num_features, 3)\n",
    "\n",
    "# Define the optimizer and loss function\n",
    "optimizer = optim.Adam(model.parameters(), lr=0.001)\n",
    "criterion = nn.CrossEntropyLoss()\n",
    "\n",
    "# Train the model\n",
    "device = torch.device('cuda' if torch.cuda.is_available() else 'cpu')\n",
    "model.to(device)\n",
    "\n",
    "num_epochs = 10\n",
    "for epoch in range(num_epochs):\n",
    "    running_loss = 0.0\n",
    "    for i, (inputs, labels) in enumerate(train_loader, 0):\n",
    "        inputs, labels = inputs.to(device), labels.to(device)\n",
    "        optimizer.zero_grad()\n",
    "        outputs = model(inputs)\n",
    "        loss = criterion(outputs, labels)\n",
    "        loss.backward()\n",
    "        optimizer.step()\n",
    "        running_loss += loss.item()\n",
    "        if i % 100 == 99:    # print every 100 mini-batches\n",
    "            print('[%d, %5d] loss: %.3f' %\n",
    "                  (epoch + 1, i + 1, running_loss / 100))\n",
    "            running_loss = 0.0\n",
    "\n",
    "# Test the model\n",
    "model.eval()\n",
    "total_correct = 0\n",
    "total_images = 0\n",
    "with torch.no_grad():\n",
    "    for inputs, labels in test_loader:\n",
    "        inputs, labels = inputs.to(device), labels.to(device)\n",
    "        outputs = model(inputs)\n",
    "        _, predicted = torch.max(outputs.data, 1)\n",
    "        total_images += labels.size(0)\n",
    "        total_correct += (predicted == labels).sum().item()\n",
    "\n",
    "print('Accuracy of the network on the %d test images: %d %%' % (total_images, 100 * total_correct / total_images))\n"
   ]
  }
 ],
 "metadata": {
  "kernelspec": {
   "display_name": "base",
   "language": "python",
   "name": "python3"
  },
  "language_info": {
   "codemirror_mode": {
    "name": "ipython",
    "version": 3
   },
   "file_extension": ".py",
   "mimetype": "text/x-python",
   "name": "python",
   "nbconvert_exporter": "python",
   "pygments_lexer": "ipython3",
   "version": "3.9.12"
  },
  "orig_nbformat": 4,
  "vscode": {
   "interpreter": {
    "hash": "f53be5b945d9bd707dfb463269b5f5206ccedac637d039afb7a68ece5d290f2d"
   }
  }
 },
 "nbformat": 4,
 "nbformat_minor": 2
}
