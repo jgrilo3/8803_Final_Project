{
 "cells": [
  {
   "attachments": {},
   "cell_type": "markdown",
   "metadata": {},
   "source": [
    "ECE 8803 Final Project"
   ]
  },
  {
   "cell_type": "code",
   "execution_count": 5,
   "metadata": {},
   "outputs": [],
   "source": [
    "import numpy as np\n",
    "import pandas as pd\n",
    "import os\n",
    "from dataloader import OCTDataset\n",
    "import torch\n",
    "from torch.utils.data import Dataset\n",
    "from torchvision import transforms\n",
    "import numpy as np\n",
    "import pandas as pd\n",
    "from PIL import Image\n",
    "import argparse\n",
    "import os\n",
    "import copy\n",
    "import matplotlib.pyplot as plt\n",
    "\n",
    "\n",
    "\n",
    "root = os.getcwd()\n",
    "train = os.path.join(root, \"df_prime_train.csv\")\n",
    "test = os.path.join(root, \"df_prime_test.csv\")\n",
    "\n",
    "\n",
    "\n",
    "LABELS_SEVERITY = {35: 0,\n",
    "                   43: 0,\n",
    "                   47: 1,\n",
    "                   53: 1,\n",
    "                   61: 2,\n",
    "                   65: 2,\n",
    "                   71: 2,\n",
    "                   85: 2}\n",
    "\n",
    "\n",
    "\n",
    "\n",
    "\n",
    "\n",
    "'''Obtain Dataset Images'''\n",
    "\n",
    "\n",
    "mean = (.1706)\n",
    "std = (.2112)\n",
    "normalize = transforms.Normalize(mean=mean, std=std)\n",
    "\n",
    "transform = transforms.Compose([\n",
    "    transforms.Resize(size=(224,224)),\n",
    "    transforms.ToTensor(),\n",
    "    normalize,\n",
    "])\n",
    "\n",
    "args = 'C:/Users/jgril/Documents/GitHub/8803_Final_Project'\n",
    "image_trainset = OCTDataset(args, 'train', transform=transform)\n",
    "image_testset = OCTDataset(args, 'test', transform=transform)\n",
    "\n",
    "\n",
    "print(\"loading data\")\n",
    "images = []\n",
    "labels = []\n",
    "for i in range(len(image_trainset)):\n",
    "    image,label = image_trainset.__getitem__(i)\n",
    "    images.append(image.flatten())\n",
    "    labels.append(label)\n",
    "\n",
    "assert(len(image_trainset) == len(images))\n",
    "print(\"data loaded\")\n",
    "\n",
    "\n",
    "\n",
    "'''Meta Train Data'''\n",
    "meta_trainset = pd.read_csv(train).dropna()\n",
    "meta_testset = pd.read_csv(test).dropna()\n",
    "\n",
    "train = os.path.join(root, \"df_prime_train.csv\")\n",
    "test = os.path.join(root, \"df_prime_test.csv\")\n",
    "\n",
    "meta_X_train = meta_trainset[['Age', 'Gender', 'Race', \"Diabetes_Type\", \"Diabetes_Years\", \"BMI\", \"BCVA\", \"CST\", \"Leakage_Index\"]].to_numpy()\n",
    "meta_Y_train = meta_trainset[[\"DRSS\"]].to_numpy()\n",
    "y = []\n",
    "for i in range(meta_Y_train.shape[0]):\n",
    "    y.append(LABELS_SEVERITY[int(meta_Y_train[i])])\n",
    "\n",
    "meta_Y_train = np.array(y)\n",
    "\n",
    "\n",
    "\n",
    "'''Meta Test Data'''\n",
    "meta_X_test = meta_testset[['Age', 'Gender', 'Race', \"Diabetes_Type\", \"Diabetes_Years\", \"BMI\", \"BCVA\", \"CST\", \"Leakage_Index\"]].to_numpy()\n",
    "meta_Y_test = meta_testset[[\"DRSS\"]].to_numpy() \n",
    "y = []\n",
    "for i in range(meta_Y_test.shape[0]):\n",
    "    y.append(LABELS_SEVERITY[int(meta_Y_test[i])])\n",
    "\n",
    "Y_test = np.array(y)\n",
    "\n",
    "\n",
    "#print(meta_X_train)\n",
    "#print(meta_Y_train)\n",
    "#print(meta_X_test)\n",
    "#print(meta_Y_test)"
   ]
  },
  {
   "attachments": {},
   "cell_type": "markdown",
   "metadata": {},
   "source": [
    "Naive Bayes Implementation"
   ]
  },
  {
   "cell_type": "code",
   "execution_count": 2,
   "metadata": {},
   "outputs": [
    {
     "name": "stdout",
     "output_type": "stream",
     "text": [
      "means\n",
      "y=0 [ 53.1275692    0.48972321   0.51616881   0.87914497  17.21512743\n",
      "  32.6912821   85.40367224 256.84091532   1.13702795]\n",
      "y=1 [ 49.95196507   0.38864629   0.45851528   0.84279476  16.26637555\n",
      "  30.93566433  84.60262009 259.12227074   1.35052402]\n",
      "y=2 [ 44.09574468   0.4787234    0.46808511   0.92553191  16.81914894\n",
      "  31.57008372  83.57446809 253.68085106   2.63021277]\n",
      "\n",
      "     std\n",
      "y=0 [ 9.50736566  0.49989438  0.86357679  0.32595873  8.37890912  4.20488318\n",
      "  8.62727152 19.63223918  1.23580315]\n",
      "y=1 [11.9647356   0.48744266  0.70201175  0.36399417  7.99529094  8.06877216\n",
      "  6.9290977  24.51757915  1.46639227]\n",
      "y=2 [10.22519744  0.4995471   0.51986348  0.26253112  5.63983319 12.12775823\n",
      " 10.27337952 24.29876661  2.31756015]\n",
      "Accuracy Score: 0.414\n"
     ]
    }
   ],
   "source": [
    "import numpy as np\n",
    "from sklearn.naive_bayes import MultinomialNB\n",
    "from sklearn.metrics import accuracy_score\n",
    "\n",
    "# load image data and corresponding labels\n",
    "X_train = np.load('train_images.npy')\n",
    "y_train = np.load('train_labels.npy')\n",
    "X_test = np.load('test_images.npy')\n",
    "y_test = np.load('test_labels.npy')\n",
    "\n",
    "# convert image data to a bag-of-words representation\n",
    "X_train_bow = np.zeros((X_train.shape[0], 256))\n",
    "for i in range(X_train.shape[0]):\n",
    "    unique, counts = np.unique(X_train[i], return_counts=True)\n",
    "    X_train_bow[i, unique] = counts\n",
    "\n",
    "X_test_bow = np.zeros((X_test.shape[0], 256))\n",
    "for i in range(X_test.shape[0]):\n",
    "    unique, counts = np.unique(X_test[i], return_counts=True)\n",
    "    X_test_bow[i, unique] = counts\n",
    "\n",
    "# train a Naive Bayes classifier\n",
    "clf = MultinomialNB()\n",
    "clf.fit(X_train_bow, y_train)\n",
    "\n",
    "# evaluate the classifier on the test data\n",
    "y_pred = clf.predict(X_test_bow)\n",
    "accuracy = accuracy_score(y_test, y_pred)\n",
    "print('Accuracy:', accuracy)"
   ]
  },
  {
   "attachments": {},
   "cell_type": "markdown",
   "metadata": {},
   "source": [
    "Polynomial Regression"
   ]
  },
  {
   "cell_type": "code",
   "execution_count": 4,
   "metadata": {},
   "outputs": [],
   "source": []
  },
  {
   "attachments": {},
   "cell_type": "markdown",
   "metadata": {},
   "source": [
    "SVM"
   ]
  },
  {
   "cell_type": "code",
   "execution_count": 16,
   "metadata": {},
   "outputs": [
    {
     "ename": "KeyboardInterrupt",
     "evalue": "",
     "output_type": "error",
     "traceback": [
      "\u001b[1;31m---------------------------------------------------------------------------\u001b[0m",
      "\u001b[1;31mKeyboardInterrupt\u001b[0m                         Traceback (most recent call last)",
      "Cell \u001b[1;32mIn [16], line 189\u001b[0m\n\u001b[0;32m    183\u001b[0m \u001b[39mfrom\u001b[39;00m \u001b[39msklearn\u001b[39;00m\u001b[39m.\u001b[39;00m\u001b[39mmodel_selection\u001b[39;00m \u001b[39mimport\u001b[39;00m train_test_split\n\u001b[0;32m    187\u001b[0m svm \u001b[39m=\u001b[39m SVM()\n\u001b[1;32m--> 189\u001b[0m w, b, losses \u001b[39m=\u001b[39m svm\u001b[39m.\u001b[39;49mfit(X_train, Y_train)\n\u001b[0;32m    191\u001b[0m prediction \u001b[39m=\u001b[39m svm\u001b[39m.\u001b[39mpredict(X_test)\n\u001b[0;32m    193\u001b[0m \u001b[39m# Loss value\u001b[39;00m\n",
      "Cell \u001b[1;32mIn [16], line 107\u001b[0m, in \u001b[0;36mSVM.fit\u001b[1;34m(self, X, Y, batch_size, learning_rate, epochs)\u001b[0m\n\u001b[0;32m     95\u001b[0m x \u001b[39m=\u001b[39m ids[j]\n\u001b[0;32m     97\u001b[0m \u001b[39m## question ii\u001b[39;00m\n\u001b[0;32m     98\u001b[0m \u001b[39m# calculating the gradients\u001b[39;00m\n\u001b[0;32m     99\u001b[0m \n\u001b[1;32m   (...)\u001b[0m\n\u001b[0;32m    103\u001b[0m \u001b[39m# data sample.\u001b[39;00m\n\u001b[0;32m    104\u001b[0m \u001b[39m#max(0,1−yi(w⊤xi−b))\u001b[39;00m\n\u001b[1;32m--> 107\u001b[0m \u001b[39mif\u001b[39;00m (\u001b[39m1\u001b[39m \u001b[39m-\u001b[39m Y[x]\u001b[39m*\u001b[39m(X[x] \u001b[39m@\u001b[39;49m w\u001b[39m.\u001b[39;49mT \u001b[39m+\u001b[39;49m b) \u001b[39m>\u001b[39m \u001b[39m0\u001b[39m):\n\u001b[0;32m    108\u001b[0m   gradw \u001b[39m+\u001b[39m\u001b[39m=\u001b[39m w \u001b[39m+\u001b[39m c \u001b[39m*\u001b[39m \u001b[39m-\u001b[39mY[x] \u001b[39m*\u001b[39m X[x]\n\u001b[0;32m    109\u001b[0m   gradb \u001b[39m+\u001b[39m\u001b[39m=\u001b[39m c \u001b[39m*\u001b[39m \u001b[39m-\u001b[39mY[x] \u001b[39m*\u001b[39m \u001b[39m1\u001b[39m\n",
      "\u001b[1;31mKeyboardInterrupt\u001b[0m: "
     ]
    }
   ],
   "source": []
  }
 ],
 "metadata": {
  "kernelspec": {
   "display_name": "base",
   "language": "python",
   "name": "python3"
  },
  "language_info": {
   "codemirror_mode": {
    "name": "ipython",
    "version": 3
   },
   "file_extension": ".py",
   "mimetype": "text/x-python",
   "name": "python",
   "nbconvert_exporter": "python",
   "pygments_lexer": "ipython3",
   "version": "3.10.6"
  },
  "orig_nbformat": 4,
  "vscode": {
   "interpreter": {
    "hash": "f53be5b945d9bd707dfb463269b5f5206ccedac637d039afb7a68ece5d290f2d"
   }
  }
 },
 "nbformat": 4,
 "nbformat_minor": 2
}
